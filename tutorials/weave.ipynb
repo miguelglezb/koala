{
 "cells": [
  {
   "cell_type": "markdown",
   "id": "0293e361",
   "metadata": {},
   "source": [
    "# Using WEAVE data with pyKOALA"
   ]
  },
  {
   "cell_type": "markdown",
   "id": "b6d607f5-ccca-46c1-a304-043a64936c41",
   "metadata": {},
   "source": [
    "## Initialisation"
   ]
  },
  {
   "cell_type": "code",
   "execution_count": null,
   "id": "de348001-aa80-4816-972b-ed31b3e44b1f",
   "metadata": {},
   "outputs": [],
   "source": [
    "%matplotlib ipympl\n",
    "from matplotlib import pyplot as plt\n",
    "from matplotlib import colors\n",
    "from matplotlib.ticker import AutoMinorLocator\n",
    "\n",
    "import numpy as np\n",
    "import os\n",
    "import importlib\n",
    "from time import time\n",
    "from astropy import units as u\n",
    "from astropy.table import Table\n",
    "\n",
    "import warnings\n",
    "# You may want to comment the following line\n",
    "#warnings.filterwarnings(\"ignore\")"
   ]
  },
  {
   "cell_type": "code",
   "execution_count": null,
   "id": "0351b570-0d66-437f-9ac3-e24444947bd6",
   "metadata": {},
   "outputs": [],
   "source": [
    "from koala import __version__\n",
    "from koala.instruments import weave\n",
    "from koala import cubing\n",
    "\n",
    "# pyKOALA version\n",
    "print(\"pyKOALA version: \", __version__)"
   ]
  },
  {
   "cell_type": "markdown",
   "id": "39b9a277-b5a3-4873-8f5b-376452c888a7",
   "metadata": {},
   "source": [
    "### Utility functions for plotting"
   ]
  },
  {
   "cell_type": "code",
   "execution_count": null,
   "id": "224828f2-b20a-4651-a45c-3ee07c822229",
   "metadata": {},
   "outputs": [],
   "source": [
    "def new_figure(fig_name, figsize=None, nrows=1, ncols=1, sharex='col', sharey='row', gridspec_kw={'hspace': 0, 'wspace': 0}):\n",
    "    if figsize is None:\n",
    "        figsize = (9 + ncols, 4 + nrows)\n",
    "        \n",
    "    plt.close(fig_name)\n",
    "    fig = plt.figure(fig_name, figsize=figsize)\n",
    "    axes = fig.subplots(nrows=nrows, ncols=ncols, squeeze=False,\n",
    "                        sharex=sharex, sharey=sharey,\n",
    "                        gridspec_kw=gridspec_kw\n",
    "                       )\n",
    "    #fig.set_tight_layout(True)\n",
    "    for ax in axes.flat:\n",
    "        ax.xaxis.set_minor_locator(AutoMinorLocator())\n",
    "        ax.yaxis.set_minor_locator(AutoMinorLocator())\n",
    "        ax.tick_params(which='both', bottom=True, top=True, left=True, right=True)\n",
    "        ax.tick_params(which='major', direction='inout', length=8, grid_alpha=.3)\n",
    "        ax.tick_params(which='minor', direction='in', length=2, grid_alpha=.1)\n",
    "        ax.grid(True, which='both')\n",
    "\n",
    "    #fig.suptitle(f'{self.filename} {fig_name}')\n",
    "    fig.suptitle(fig_name)\n",
    "    \n",
    "    return fig, axes\n"
   ]
  },
  {
   "cell_type": "code",
   "execution_count": null,
   "id": "18a916bf-5f9b-4712-86bd-ddac8a2b6f08",
   "metadata": {},
   "outputs": [],
   "source": [
    "default_cmap = plt.get_cmap(\"gist_earth\").copy()\n",
    "default_cmap.set_bad('gray')\n",
    "\n",
    "\n",
    "def colour_map(fig, ax, cblabel, data, cmap=default_cmap, norm=None, xlabel=None, x=None, ylabel=None, y=None):\n",
    "    \n",
    "    if norm is None:\n",
    "        percentiles = np.array([1, 16, 50, 84, 99])\n",
    "        ticks = np.nanpercentile(data, percentiles)\n",
    "        linthresh = np.median(data[data > 0])\n",
    "        norm = colors.SymLogNorm(vmin=ticks[0], vmax=ticks[-1], linthresh=linthresh)\n",
    "    else:\n",
    "        ticks = None\n",
    "    if y is None:\n",
    "        y = np.arange(data.shape[0])\n",
    "    if x is None:\n",
    "        x = np.arange(data.shape[1])\n",
    "\n",
    "    im = ax.imshow(data,\n",
    "                   extent=(x[0]-(x[1]-x[0])/2, x[-1]+(x[-1]-x[-2])/2, y[0]-(y[1]-y[0])/2, y[-1]+(y[-1]-y[-2])/2),\n",
    "                   interpolation='nearest', origin='lower',\n",
    "                   cmap=cmap,\n",
    "                   norm=norm,\n",
    "                  )\n",
    "    ax.set_aspect('auto')\n",
    "    if xlabel is not None:\n",
    "        ax.set_xlabel(xlabel)\n",
    "    if ylabel is not None:\n",
    "        ax.set_ylabel(ylabel)\n",
    "\n",
    "    cb = fig.colorbar(im, ax=ax, orientation='vertical', shrink=.9)\n",
    "    cb.ax.set_ylabel(cblabel)\n",
    "    if ticks is not None:\n",
    "        cb.ax.set_yticks(ticks=ticks, labels=[f'{value:.3g} ({percent})\\%)' for value, percent in zip(ticks, percentiles)])\n",
    "    cb.ax.tick_params(labelsize='small')\n",
    "    \n",
    "    return im, cb\n"
   ]
  },
  {
   "cell_type": "markdown",
   "id": "290b7c49",
   "metadata": {},
   "source": [
    "### Load the science data"
   ]
  },
  {
   "cell_type": "code",
   "execution_count": null,
   "id": "dc1a2868",
   "metadata": {},
   "outputs": [],
   "source": [
    "importlib.reload(weave)\n",
    "\n",
    "filename = f\"../tests/weave/single_3042890.fit\"\n",
    "rss = weave.weave_rss(filename)\n",
    "print(f\"File {filename} corresponds to object {rss.info['name']}\")\n"
   ]
  },
  {
   "cell_type": "code",
   "execution_count": null,
   "id": "08f5d674-21b7-461d-b5c6-38de90d16c50",
   "metadata": {},
   "outputs": [],
   "source": [
    "rss_wavelength = rss.wavelength.to_value(u.Angstrom)"
   ]
  },
  {
   "cell_type": "markdown",
   "id": "995b2253-f6cf-4c7c-adb4-86cce50758f8",
   "metadata": {},
   "source": [
    "## Fibre throughput"
   ]
  },
  {
   "cell_type": "markdown",
   "id": "e4943ed6-dea6-4313-a889-2af986bc8981",
   "metadata": {},
   "source": [
    "### Lines and continuum"
   ]
  },
  {
   "cell_type": "code",
   "execution_count": null,
   "id": "625790d3-e782-40a9-b5de-9dabb6d867bd",
   "metadata": {},
   "outputs": [],
   "source": [
    "# TODO: guess min_separation\n",
    "\n",
    "def find_continuum(x, y, min_separation=10):\n",
    "    '''\n",
    "    Fit lower envelope of a single spectrum:\n",
    "    1) Find local minima, with a minimum separation `min_separation`.\n",
    "    2) Interpolate linearly between them.\n",
    "    3) Add \"typical\" (~median) offset.\n",
    "    '''\n",
    "    valleys = []\n",
    "    y[np.isnan(y)] = np.inf\n",
    "    for i in range(min_separation, y.size-min_separation-1):\n",
    "        if np.argmin(y[i-min_separation:i+min_separation+1]) == min_separation:\n",
    "            valleys.append(i)\n",
    "    y[~np.isfinite(y)] = np.nan\n",
    "\n",
    "    continuum = np.fmin(y, np.interp(x, x[valleys], y[valleys]))\n",
    "\n",
    "    offset = y - continuum\n",
    "    offset = np.nanpercentile(offset[offset > 0], np.linspace(1, 50, 51))\n",
    "    density = (np.arange(offset.size) + 1) / offset\n",
    "    offset = np.median(offset[density > np.max(density)/2])\n",
    "\n",
    "    return continuum+offset, offset\n",
    "\n",
    "min_separation = 10\n"
   ]
  },
  {
   "cell_type": "code",
   "execution_count": null,
   "id": "d5326298-8778-44a2-a2e3-168dbe3e5618",
   "metadata": {},
   "outputs": [],
   "source": [
    "n_spectra = rss.intensity.shape[0]\n",
    "print(f\"> Find continuum for {n_spectra} spectra:\")\n",
    "t0 = time()\n",
    "\n",
    "continuum = np.zeros_like(rss.intensity)\n",
    "continuum_err = np.zeros(n_spectra)\n",
    "for i in range(n_spectra):\n",
    "    continuum[i], continuum_err[i] = find_continuum(rss_wavelength, rss.intensity[i], min_separation)\n",
    "\n",
    "print(f\"  Done ({time()-t0:.3g} s)\")"
   ]
  },
  {
   "cell_type": "code",
   "execution_count": null,
   "id": "b9254319-037b-4422-b7cc-6e66f53dbae1",
   "metadata": {},
   "outputs": [],
   "source": [
    "fig, axes = new_figure('lines-continuum', nrows=3)\n",
    "\n",
    "im, cb = colour_map(fig, axes[0, 0], 'lines', rss.intensity - continuum, x=rss_wavelength)\n",
    "im, cb = colour_map(fig, axes[1, 0], 'continuum', continuum, x=rss_wavelength)\n",
    "im, cb = colour_map(fig, axes[2, 0], 'S/N', (rss.intensity - continuum) / continuum_err[:, np.newaxis], x=rss_wavelength)\n"
   ]
  },
  {
   "cell_type": "markdown",
   "id": "3a1c33b3-ad44-4481-9c79-f12a9a436949",
   "metadata": {},
   "source": [
    "### Strong sky lines"
   ]
  },
  {
   "cell_type": "code",
   "execution_count": null,
   "id": "05349bd8-1ff3-4d4f-84d5-74d9cbdeca7f",
   "metadata": {},
   "outputs": [],
   "source": [
    "SN = (rss.intensity - continuum) / continuum_err[:, np.newaxis]\n",
    "SN_p16, SN_p50, SN_p84 = np.nanpercentile(SN, [16, 50, 84], axis=0)\n",
    "\n",
    "line_mask = 2*SN_p16 - SN_p84 > 0\n",
    "line_mask[0] = False\n",
    "line_mask[-1] = False\n",
    "\n",
    "line_left = np.where(~line_mask[:-1] & line_mask[1:])[0]\n",
    "line_right = np.where(line_mask[:-1] & ~line_mask[1:])[0]\n",
    "line_right += 1\n",
    "print(f'  {line_left.size} strong sky lines ({np.count_nonzero(line_mask)} out of {rss_wavelength.size} wavelengths)')"
   ]
  },
  {
   "cell_type": "code",
   "execution_count": null,
   "id": "8aa519c8-31e2-47ae-aabd-b4ba74227190",
   "metadata": {},
   "outputs": [],
   "source": [
    "strong_sky_lines = Table((line_left, line_right), names=('left', 'right'))\n",
    "\n",
    "# To be filled later:\n",
    "strong_sky_lines.add_column(0., name='sky_wavelength')\n",
    "strong_sky_lines.add_column(0., name='sky_intensity')"
   ]
  },
  {
   "cell_type": "code",
   "execution_count": null,
   "id": "a6d06d00-3bb8-4c8d-b75e-7d2c1ab2ada1",
   "metadata": {},
   "outputs": [],
   "source": [
    "fig, axes = new_figure('strong_lines')\n",
    "\n",
    "ax = axes[0, 0]\n",
    "ax.plot(rss_wavelength, SN_p50, 'k-')\n",
    "ax.fill_between(rss_wavelength, SN_p16, SN_p84, color='r', alpha=.1)\n",
    "ax.plot(rss_wavelength, 2*SN_p16-SN_p84, 'k:')\n",
    "for line in strong_sky_lines:\n",
    "    ax.axvspan(rss_wavelength[line['left']], rss_wavelength[line['right']], color='c', alpha=.1)"
   ]
  },
  {
   "cell_type": "markdown",
   "id": "88bc69ec-35a6-4478-a55f-b5775ca0a78c",
   "metadata": {},
   "source": [
    "### Reference wavelength and flux"
   ]
  },
  {
   "cell_type": "code",
   "execution_count": null,
   "id": "a83450c0-76a4-4a93-a4ed-ad2eb766ceee",
   "metadata": {},
   "outputs": [],
   "source": [
    "from astropy import stats\n",
    "\n",
    "sky = stats.biweight.biweight_location(rss.intensity, axis=0)\n",
    "\n",
    "sky_cont, sky_err = find_continuum(rss_wavelength, sky)#, min_separation)\n",
    "sky_lines = sky - sky_cont\n"
   ]
  },
  {
   "cell_type": "code",
   "execution_count": null,
   "id": "313a25d8-f43e-4580-87ed-e7d6af141d81",
   "metadata": {},
   "outputs": [],
   "source": [
    "for line in strong_sky_lines:\n",
    "    wavelength = rss_wavelength[line['left']:line['right']]\n",
    "    spectrum = sky_lines[line['left']:line['right']]\n",
    "    weight = spectrum\n",
    "    line['sky_wavelength'] = np.nansum(weight*wavelength) / np.nansum(weight)\n",
    "    line['sky_intensity'] = np.nanmean(spectrum)\n"
   ]
  },
  {
   "cell_type": "code",
   "execution_count": null,
   "id": "8cfc52e8-09ff-4573-ba0a-b0f6a6c056b2",
   "metadata": {},
   "outputs": [],
   "source": [
    "fig, axes = new_figure('sky')\n",
    "\n",
    "ax = axes[0, 0]\n",
    "ax.plot(rss_wavelength, sky, 'k-')\n",
    "ax.plot(rss_wavelength, sky_cont, 'r-')\n",
    "ax.plot(rss_wavelength, sky_cont + sky_err, 'r--')\n",
    "ax.plot(rss_wavelength, sky_cont - sky_err, 'r-')\n",
    "for line in strong_sky_lines:\n",
    "    ax.axvspan(rss_wavelength[line['left']], rss_wavelength[line['right']], color='c', alpha=.1)\n",
    "ax.set_ylim(0, 1000)"
   ]
  },
  {
   "cell_type": "code",
   "execution_count": null,
   "id": "5a57faa0-b6b8-4423-a1a2-65161f628c0d",
   "metadata": {},
   "outputs": [],
   "source": [
    "mean_flux = np.nanmean(rss.intensity, axis=1)\n",
    "spec_id = np.nanargmax(mean_flux)\n",
    "spec_id_cont, spec_id_err = find_continuum(rss_wavelength, rss.intensity[spec_id])#, min_separation)"
   ]
  },
  {
   "cell_type": "code",
   "execution_count": null,
   "id": "c03ffcbc-7e5f-434e-a737-a4fc0087bdb2",
   "metadata": {},
   "outputs": [],
   "source": [
    "fig, axes = new_figure('single_continuum-line', nrows=2, ncols=2)\n",
    "\n",
    "ax = axes[0, 0]\n",
    "ax.plot(rss_wavelength, rss.intensity[spec_id], 'k-', label=f'spec_id {spec_id}')\n",
    "#ax.plot(rss_wavelength, rss.intensity[spec_id] - sky_lines, 'c-')\n",
    "ax.fill_between(rss_wavelength, spec_id_cont-spec_id_err, spec_id_cont+spec_id_err, color='r', alpha=.1, label='continuum')\n",
    "ax.plot(rss_wavelength, continuum[spec_id] + sky_lines, 'c-', label='continuum+sky lines')\n",
    "ax.plot(rss_wavelength, spec_id_cont, 'r-')\n",
    "for line in strong_sky_lines:\n",
    "    ax.axvspan(rss_wavelength[line['left']], rss_wavelength[line['right']], color='c', alpha=.1)\n",
    "ax.legend()\n",
    "\n",
    "ax = axes[1, 0]\n",
    "ax.plot(rss_wavelength, rss.intensity[spec_id] - spec_id_cont, 'c-')\n",
    "ax.plot(rss_wavelength, rss.intensity[spec_id] - spec_id_cont - sky_lines, 'k-')\n",
    "error = np.sqrt(sky_err**2 + spec_id_err**2)\n",
    "ax.fill_between(rss_wavelength, -error, error, color='r', alpha=.1)\n",
    "for line in strong_sky_lines:\n",
    "    ax.axvspan(rss_wavelength[line['left']], rss_wavelength[line['right']], color='c', alpha=.1)\n",
    "    ax.plot([rss_wavelength[line['left']], rss_wavelength[line['right']]], 2*[line['sky_intensity']], 'c-')\n",
    "    ax.axvline(line['sky_wavelength'], c='c', ls='--')\n",
    "    \n",
    "    wavelength = rss_wavelength[line['left']:line['right']]\n",
    "    spectrum = (rss.intensity[spec_id] - spec_id_cont)[line['left']:line['right']]\n",
    "    weight = spectrum\n",
    "    wavelength = np.nansum(weight*wavelength) / np.nansum(weight)\n",
    "    intensity = np.nanmean(spectrum)\n",
    "    ax.plot([rss_wavelength[line['left']], rss_wavelength[line['right']]], 2*[intensity], 'k:')\n",
    "    ax.plot(wavelength, intensity, 'k.')\n",
    "    #ax.axvline(wavelength, c='k', ls=':')\n",
    "    \n"
   ]
  },
  {
   "cell_type": "code",
   "execution_count": null,
   "id": "ce49afcd-abe8-452d-92e6-342b4cbb5f3e",
   "metadata": {},
   "outputs": [],
   "source": [
    "def measure_lines(lines, wavelength, intensity, continuum=None):\n",
    "    if continuum is None:\n",
    "        continuum, err = find_continuum(wavelength, intensity) #, min_separation)\n",
    "    line_wavelength = np.zeros(len(lines))\n",
    "    line_intensity = np.zeros(len(lines))\n",
    "    for i, line in enumerate(strong_sky_lines):\n",
    "        section_wavelength = wavelength[line['left']:line['right']]\n",
    "        section_intensity = (intensity - continuum)[line['left']:line['right']]\n",
    "        weight = section_intensity\n",
    "        line_wavelength[i] = np.nansum(weight*section_wavelength) / np.nansum(weight)\n",
    "        line_intensity[i] = np.nanmean(section_intensity)\n",
    "    return line_wavelength, line_intensity"
   ]
  },
  {
   "cell_type": "code",
   "execution_count": null,
   "id": "215ef386-2bac-4ecc-b250-63525e6b9330",
   "metadata": {},
   "outputs": [],
   "source": [
    "spec_id = 9\n",
    "line_wavelength, line_intensity = measure_lines(strong_sky_lines, rss_wavelength, rss.intensity[spec_id])\n",
    "\n",
    "fig, axes = new_figure('single_calibration', nrows=2)\n",
    "\n",
    "ax = axes[0, 0]\n",
    "ax.set_ylabel('relative $\\Delta\\lambda\\ [\\AA]$')\n",
    "y = line_wavelength - strong_sky_lines['sky_wavelength']\n",
    "location = stats.biweight.biweight_location(y)\n",
    "scale = stats.biweight.biweight_scale(y)\n",
    "ax.plot(line_wavelength, y, 'k.', label=f'lines in spec_id={spec_id}')\n",
    "ax.axhline(location, c='r', ls='-')\n",
    "ax.fill_between(line_wavelength, location-scale, location+scale, color='r', alpha=.1, label=f'${location:.2f}\\pm{scale:.2f}$')\n",
    "ax.legend()\n",
    "\n",
    "ax = axes[1, 0]\n",
    "ax.set_ylabel('relative throughput')\n",
    "y = line_intensity/strong_sky_lines['sky_intensity']\n",
    "location = stats.biweight.biweight_location(y)\n",
    "scale = stats.biweight.biweight_scale(y)\n",
    "ax.plot(line_wavelength, y, 'k.')\n",
    "ax.axhline(location, c='r', ls='-')\n",
    "ax.fill_between(line_wavelength, location-scale, location+scale, color='r', alpha=.1, label=f'${location:.2f}\\pm{scale:.2f}$')\n",
    "ax.legend()\n",
    "\n",
    "ax.set_xlabel('$\\lambda_{line}\\ [\\AA]$')\n",
    "\n",
    "\n",
    "\n",
    "fig, axes = new_figure('single_throughput')\n",
    "\n",
    "ax = axes[0, 0]\n",
    "ax.set_ylabel(f'Intensity in spec_id={spec_id}')\n",
    "ax.set_yscale('log')\n",
    "\n",
    "ax.plot(strong_sky_lines['sky_intensity'], line_intensity, 'k.', label=f'lines in spec_id={spec_id}')\n",
    "xx = np.nanpercentile(strong_sky_lines['sky_intensity'], np.linspace(0, 100, 101))\n",
    "ax.plot(xx, location*xx, 'r-')\n",
    "ax.fill_between(xx, (location-scale)*xx, (location+scale)*xx, color='r', alpha=.1, label=f'${location:.2f}\\pm{scale:.2f}$')\n",
    "ax.legend()\n",
    "\n",
    "ax.set_xlabel('Intensity in sky spectrum')\n",
    "ax.set_xscale('log')\n"
   ]
  },
  {
   "cell_type": "markdown",
   "id": "7d47dc29-09fb-4054-b1c9-fec45d2895a5",
   "metadata": {},
   "source": [
    "# --- STOP ---"
   ]
  },
  {
   "cell_type": "code",
   "execution_count": null,
   "id": "def395d6-bf4d-43b8-b716-bd8cffe04165",
   "metadata": {},
   "outputs": [],
   "source": [
    "raise -1"
   ]
  },
  {
   "cell_type": "code",
   "execution_count": null,
   "id": "2f14979e-557e-4677-9011-82cf5e118ca3",
   "metadata": {},
   "outputs": [],
   "source": [
    "import koala.corrections.sky as sky\n",
    "importlib.reload(sky)\n",
    "sky, sigma = sky.BackgroundEstimator.linear(rss.intensity_corrected)"
   ]
  },
  {
   "cell_type": "code",
   "execution_count": null,
   "id": "dc814bdc-0539-4247-b9dc-018224740913",
   "metadata": {},
   "outputs": [],
   "source": [
    "total_flux = np.nanmean(rss.intensity_corrected, axis=1)\n",
    "I = rss.intensity_corrected / total_flux[:, np.newaxis]"
   ]
  },
  {
   "cell_type": "code",
   "execution_count": null,
   "id": "e5f2e544-49de-409b-986b-99e1027dc430",
   "metadata": {},
   "outputs": [],
   "source": [
    "total_norm = np.sqrt(np.nanmean(rss.intensity_corrected**2, axis=1))"
   ]
  },
  {
   "cell_type": "code",
   "execution_count": null,
   "id": "a18149e9-dafe-4a98-adc4-75e9e207fe2b",
   "metadata": {},
   "outputs": [],
   "source": [
    "sed_sky = np.nanmedian(I, axis=0)\n",
    "sed_sky /= np.nanmean(sed_sky**2)"
   ]
  },
  {
   "cell_type": "code",
   "execution_count": null,
   "id": "29c351cf-d387-47d0-9cfe-3fd99531b893",
   "metadata": {},
   "outputs": [],
   "source": [
    "sky_flux = np.nanmean(sed_sky[np.newaxis, :]*rss.intensity_corrected, axis=1)"
   ]
  },
  {
   "cell_type": "code",
   "execution_count": null,
   "id": "4c53a3c5-3e3f-40d3-bede-31bd1e82864b",
   "metadata": {},
   "outputs": [],
   "source": [
    "np.nanmedian(sky_flux)"
   ]
  },
  {
   "cell_type": "code",
   "execution_count": null,
   "id": "865e5226-aff4-4ee1-888a-0d0551516d7f",
   "metadata": {},
   "outputs": [],
   "source": [
    "fig, axes = new_figure('I-flux')\n",
    "\n",
    "ax = axes[0, 0]\n",
    "ax.plot(total_flux, sky_flux, 'k.')"
   ]
  },
  {
   "cell_type": "code",
   "execution_count": null,
   "id": "9018ed36-34e9-4dfb-9eec-ff2f58b03c3c",
   "metadata": {},
   "outputs": [],
   "source": [
    "fig, axes = new_figure('map', nrows=2)\n",
    "\n",
    "im, cb = colour_map(fig, axes[0, 0], 'I original', rss.intensity_corrected)\n",
    "im, cb = colour_map(fig, axes[1, 0], 'I norm', I)\n"
   ]
  },
  {
   "cell_type": "code",
   "execution_count": null,
   "id": "8f631ddb-6e30-4106-9f44-ce93d4bd29fd",
   "metadata": {},
   "outputs": [],
   "source": [
    "fig, axes = new_figure('hist')\n",
    "\n",
    "ax = axes[0, 0]\n",
    "ax.hist(total_flux, bins=np.nanpercentile(total_flux, np.linspace(0, 100, 26)), density=True)\n",
    "ax.set_yscale('log')\n",
    "ax.set_xscale('log')"
   ]
  },
  {
   "cell_type": "code",
   "execution_count": null,
   "id": "03b0c902-4813-4208-8fa3-94f47ddd764c",
   "metadata": {},
   "outputs": [],
   "source": [
    "fig, axes = new_figure('spectrum', nrows=2)\n",
    "\n",
    "ax = axes[0, 0]\n",
    "ax.plot(rss_wavelength, sed_obj)\n",
    "\n",
    "ax = axes[1, 0]\n",
    "ax.plot(rss_wavelength, sed_sky)"
   ]
  },
  {
   "cell_type": "code",
   "execution_count": null,
   "id": "ea718da8-65ee-457a-9e09-d86fda22c2e5",
   "metadata": {},
   "outputs": [],
   "source": [
    "fig, axes = new_figure('sky_spectrum', nrows=3)\n",
    "\n",
    "ax = axes[0, 0]\n",
    "ax.plot(rss_wavelength, np.nanmean(rss.intensity, axis=0))\n",
    "\n",
    "ax = axes[1, 0]\n",
    "ax.plot(rss_wavelength, np.nanmean(rss.intensity-sky[np.newaxis, :], axis=0))\n",
    "\n",
    "ax = axes[2, 0]\n",
    "ax.plot(rss_wavelength, sky)"
   ]
  },
  {
   "cell_type": "markdown",
   "id": "48668475",
   "metadata": {},
   "source": [
    "## Registration\n",
    "\n",
    "### Image Cross-correlation\n",
    "\n",
    "The most sofisticated method to perform the registration of extended sources included in pyKOALA is based on the cross-correlation of two images."
   ]
  },
  {
   "cell_type": "markdown",
   "id": "635a1a2d",
   "metadata": {},
   "source": [
    "from koala.register.registration import register_crosscorr\n",
    "\n",
    "figures = register_crosscorr(sci_rss, plot=True, quick_cube_pix_size=1.)\n",
    "for fig in figures:\n",
    "    plt.show(plt.figure(fig))"
   ]
  },
  {
   "cell_type": "markdown",
   "id": "3967d6e8",
   "metadata": {},
   "source": [
    "### Centroid finding\n",
    "\n",
    "A simple approach to find the offset between the different RSS is to find the center of light of the images (assuming that they contain the same sources)."
   ]
  },
  {
   "cell_type": "markdown",
   "id": "b9fdd871",
   "metadata": {},
   "source": [
    "from koala.register.registration import register_centroid\n",
    "\n",
    "figures = register_centroid(sci_rss, plot=True, quick_cube_pix_size=0.2,\n",
    "                            centroider='gauss',\n",
    "                            #subbox=[[150, 200], [20, 100]]\n",
    "                           )\n",
    "\n",
    "for fig in figures:\n",
    "    plt.show(plt.figure(fig))"
   ]
  },
  {
   "cell_type": "markdown",
   "id": "72190e07",
   "metadata": {},
   "source": [
    "### Manual\n",
    "\n",
    "Alternatively, it is also possible to provide a manual offset for the input RSS frames"
   ]
  },
  {
   "cell_type": "code",
   "execution_count": null,
   "id": "b546b37c",
   "metadata": {},
   "outputs": [],
   "source": [
    "from koala.register.registration import register_manual\n",
    "\n",
    "#register_manual(sci_rss, [[0, 0], [1.5, 0], [3, 1.5]], absolute=False)"
   ]
  },
  {
   "cell_type": "markdown",
   "id": "42236fb4",
   "metadata": {},
   "source": [
    "For interpolating RSS data into a 3D datacube we will make use of the function *build_cube*. This method requires as input:\n",
    "- A list of RSS objects. \n",
    "- The desired dimensions of the cube expressed as a 2-element tuple, corresponding to (ra, dec) in arcseconds.\n",
    "- The pixel size of the cube in arcseconds.\n",
    "- A list containing the ADR correction for every RSS (it can contain None) in the form: [(ADR_ra_1, ADR_dec_1), (ADR_ra_2, ADR_dec_2), (None, None)].\n",
    "- Additional information to be included in *cube_info*"
   ]
  },
  {
   "cell_type": "code",
   "execution_count": null,
   "id": "e089ab8a",
   "metadata": {},
   "outputs": [],
   "source": [
    "importlib.reload(cubing)\n",
    "cube = cubing.build_cube(rss_set=[rss],\n",
    "                  cube_size_arcsec=(90, 90),  # (dec, ra)\n",
    "                  pixel_size_arcsec=.5,\n",
    "                  )\n",
    "cube.info['name'] = rss.info['name'].split(' ')[0]"
   ]
  },
  {
   "cell_type": "markdown",
   "id": "0a2e1da3",
   "metadata": {},
   "source": [
    "## Sky substraction"
   ]
  },
  {
   "cell_type": "code",
   "execution_count": null,
   "id": "b2c32153",
   "metadata": {},
   "outputs": [],
   "source": [
    "import koala.corrections.sky as sky\n",
    "#import importlib\n",
    "importlib.reload(sky)\n",
    "\n",
    "skymodel = sky.SkyFromObject(cube, bckgr_estimator='mad', source_mask_nsigma=3, remove_cont=False)\n",
    "skycorrection = sky.SkySubsCorrection(skymodel)\n",
    "cube, _ = skycorrection.apply(cube)"
   ]
  },
  {
   "cell_type": "markdown",
   "id": "6f06c2ce-6c80-47bf-81f3-34972df26b53",
   "metadata": {},
   "source": [
    "## Plots"
   ]
  },
  {
   "cell_type": "markdown",
   "id": "1674a91d-eb22-4000-8b36-3cb90e7c811f",
   "metadata": {},
   "source": [
    "### Mean and median intensity maps"
   ]
  },
  {
   "cell_type": "code",
   "execution_count": null,
   "id": "99068b7f-575f-406a-91e8-e601626a9edc",
   "metadata": {},
   "outputs": [],
   "source": [
    "fig, axes = new_figure('cube_projection', nrows=2, ncols=2,\n",
    "                       sharex=True, sharey=True,\n",
    "                       figsize=(12, 8), gridspec_kw={'hspace': .1, 'wspace': 0.5})\n",
    "\n",
    "im, cb = colour_map(fig, axes[0, 0], 'raw mean', np.nanmean(cube.intensity, axis=0))\n",
    "im, cb = colour_map(fig, axes[0, 1], 'corrected mean', np.nanmean(cube.intensity_corrected, axis=0))\n",
    "im, cb = colour_map(fig, axes[1, 0], 'raw median', np.nanmedian(cube.intensity, axis=0))\n",
    "im, cb = colour_map(fig, axes[1, 1], 'corrected median', np.nanmedian(cube.intensity_corrected, axis=0))\n"
   ]
  },
  {
   "cell_type": "code",
   "execution_count": null,
   "id": "a4c8107e-ce30-4cd9-bf3a-53fdb586d0cd",
   "metadata": {},
   "outputs": [],
   "source": [
    "fig, axes = new_figure('mean_spectrum', nrows=3)\n",
    "\n",
    "ax = axes[0, 0]\n",
    "ax.plot(cube.wavelength, np.nanmean(cube.intensity, axis=(1,2)))\n",
    "\n",
    "ax = axes[1, 0]\n",
    "ax.plot(cube.wavelength, np.nanmean(cube.intensity_corrected, axis=(1,2)))\n",
    "ax.set_ylim(-.005, .01)\n",
    "\n",
    "ax = axes[2, 0]\n",
    "ax.plot(skymodel.wavelength, skymodel.bckgr)\n"
   ]
  },
  {
   "cell_type": "code",
   "execution_count": null,
   "id": "02aae52d-d38a-4728-aeaa-68132c3ba8da",
   "metadata": {},
   "outputs": [],
   "source": []
  }
 ],
 "metadata": {
  "kernelspec": {
   "display_name": "Python 3 (ipykernel)",
   "language": "python",
   "name": "python3"
  },
  "language_info": {
   "codemirror_mode": {
    "name": "ipython",
    "version": 3
   },
   "file_extension": ".py",
   "mimetype": "text/x-python",
   "name": "python",
   "nbconvert_exporter": "python",
   "pygments_lexer": "ipython3",
   "version": "3.8.10"
  },
  "toc-autonumbering": false
 },
 "nbformat": 4,
 "nbformat_minor": 5
}
