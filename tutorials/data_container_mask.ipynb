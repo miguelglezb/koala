{
 "cells": [
  {
   "cell_type": "code",
   "execution_count": 1,
   "metadata": {},
   "outputs": [],
   "source": [
    "%load_ext autoreload\n",
    "%autoreload 2"
   ]
  },
  {
   "cell_type": "code",
   "execution_count": 76,
   "metadata": {},
   "outputs": [],
   "source": [
    "from pykoala.data_container import DataMask\n",
    "from matplotlib import pyplot as plt"
   ]
  },
  {
   "cell_type": "code",
   "execution_count": 91,
   "metadata": {},
   "outputs": [],
   "source": [
    "data_mask = DataMask(shape=(2000, 100, 100), flag_map={\"CR\": 2, \"HP\": 4})"
   ]
  },
  {
   "cell_type": "code",
   "execution_count": 63,
   "metadata": {},
   "outputs": [],
   "source": [
    "def decode_number(x):\n",
    "    \"\"\"Decompose a bit in powers of 2\"\"\"\n",
    "    powers = [0]\n",
    "    i = 1\n",
    "    while i <= x:\n",
    "        if i & x:\n",
    "            powers.append(i)\n",
    "        i <<= 1\n",
    "    return powers\n"
   ]
  },
  {
   "cell_type": "code",
   "execution_count": 94,
   "metadata": {},
   "outputs": [
    {
     "ename": "TypeError",
     "evalue": "DataMask.flag_pixels() got an unexpected keyword argument 'flag'",
     "output_type": "error",
     "traceback": [
      "\u001b[0;31m---------------------------------------------------------------------------\u001b[0m",
      "\u001b[0;31mTypeError\u001b[0m                                 Traceback (most recent call last)",
      "Cell \u001b[0;32mIn[94], line 6\u001b[0m\n\u001b[1;32m      3\u001b[0m hp \u001b[38;5;241m=\u001b[39m np\u001b[38;5;241m.\u001b[39mzeros_like(data_mask\u001b[38;5;241m.\u001b[39mbitmask, dtype\u001b[38;5;241m=\u001b[39m\u001b[38;5;28mbool\u001b[39m)\n\u001b[1;32m      4\u001b[0m hp[::\u001b[38;5;241m3\u001b[39m, ::\u001b[38;5;241m3\u001b[39m] \u001b[38;5;241m=\u001b[39m \u001b[38;5;28;01mTrue\u001b[39;00m\n\u001b[0;32m----> 6\u001b[0m data_mask\u001b[38;5;241m.\u001b[39mflag_pixels(flag\u001b[38;5;241m=\u001b[39mhp, flag_name\u001b[38;5;241m=\u001b[39m\u001b[38;5;124m'\u001b[39m\u001b[38;5;124mHP\u001b[39m\u001b[38;5;124m'\u001b[39m)\n\u001b[1;32m      8\u001b[0m hp_mask \u001b[38;5;241m=\u001b[39m data_mask\u001b[38;5;241m.\u001b[39mget_flag_map()\n",
      "\u001b[0;31mTypeError\u001b[0m: DataMask.flag_pixels() got an unexpected keyword argument 'flag'"
     ]
    }
   ],
   "source": [
    "import numpy as np\n",
    "\n",
    "hp = np.zeros_like(data_mask.bitmask, dtype=bool)\n",
    "hp[::3, ::3] = True\n",
    "\n",
    "data_mask.flag_pixels(mask=hp, flag_name='HP')\n",
    "\n",
    "hp_mask = data_mask.get_flag_map()"
   ]
  },
  {
   "cell_type": "code",
   "execution_count": 90,
   "metadata": {},
   "outputs": [
    {
     "data": {
      "text/plain": [
       "<matplotlib.colorbar.Colorbar at 0x7f30dee89050>"
      ]
     },
     "execution_count": 90,
     "metadata": {},
     "output_type": "execute_result"
    },
    {
     "data": {
      "image/png": "[encoded data removed]",
      "text/plain": [
       "<Figure size 640x480 with 2 Axes>"
      ]
     },
     "metadata": {},
     "output_type": "display_data"
    }
   ],
   "source": [
    "plt.figure()\n",
    "plt.imshow(hp_mask[0], interpolation='none')\n",
    "plt.colorbar()"
   ]
  }
 ],
 "metadata": {
  "kernelspec": {
   "display_name": "base",
   "language": "python",
   "name": "python3"
  },
  "language_info": {
   "codemirror_mode": {
    "name": "ipython",
    "version": 3
   },
   "file_extension": ".py",
   "mimetype": "text/x-python",
   "name": "python",
   "nbconvert_exporter": "python",
   "pygments_lexer": "ipython3",
   "version": "3.11.5"
  }
 },
 "nbformat": 4,
 "nbformat_minor": 2
}
