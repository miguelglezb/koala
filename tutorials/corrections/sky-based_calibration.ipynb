{
 "cells": [
  {
   "cell_type": "markdown",
   "id": "0293e361",
   "metadata": {},
   "source": [
    "# Using WEAVE data with pyKOALA"
   ]
  },
  {
   "cell_type": "markdown",
   "id": "b6d607f5-ccca-46c1-a304-043a64936c41",
   "metadata": {},
   "source": [
    "## Initialisation"
   ]
  },
  {
   "cell_type": "code",
   "execution_count": null,
   "id": "de348001-aa80-4816-972b-ed31b3e44b1f",
   "metadata": {},
   "outputs": [],
   "source": [
    "%matplotlib ipympl\n",
    "from matplotlib import pyplot as plt\n",
    "from matplotlib import colors\n",
    "from matplotlib.ticker import AutoMinorLocator\n",
    "\n",
    "import numpy as np\n",
    "import os\n",
    "import importlib\n",
    "from astropy import units as u\n",
    "from astropy.visualization import quantity_support\n",
    "quantity_support()\n",
    "\n",
    "from pykoala.corrections import sky\n",
    "\n",
    "import warnings\n",
    "# You may want to comment the following line\n",
    "#warnings.filterwarnings(\"ignore\")"
   ]
  },
  {
   "cell_type": "code",
   "execution_count": null,
   "id": "0351b570-0d66-437f-9ac3-e24444947bd6",
   "metadata": {},
   "outputs": [],
   "source": [
    "from pykoala import __version__\n",
    "from pykoala.instruments import weave\n",
    "from pykoala import cubing\n",
    "\n",
    "# pyKOALA version\n",
    "print(\"pyKOALA version: \", __version__)"
   ]
  },
  {
   "cell_type": "markdown",
   "id": "39b9a277-b5a3-4873-8f5b-376452c888a7",
   "metadata": {},
   "source": [
    "### Utility functions for plotting"
   ]
  },
  {
   "cell_type": "code",
   "execution_count": null,
   "id": "224828f2-b20a-4651-a45c-3ee07c822229",
   "metadata": {},
   "outputs": [],
   "source": [
    "def new_figure(fig_name, figsize=None, nrows=1, ncols=1, sharex='col', sharey='row', gridspec_kw={'hspace': 0, 'wspace': 0}):\n",
    "    if figsize is None:\n",
    "        figsize = (9 + ncols, 4 + nrows)\n",
    "        \n",
    "    plt.close(fig_name)\n",
    "    fig = plt.figure(fig_name, figsize=figsize)\n",
    "    axes = fig.subplots(nrows=nrows, ncols=ncols, squeeze=False,\n",
    "                        sharex=sharex, sharey=sharey,\n",
    "                        gridspec_kw=gridspec_kw\n",
    "                       )\n",
    "    #fig.set_tight_layout(True)\n",
    "    for ax in axes.flat:\n",
    "        ax.xaxis.set_minor_locator(AutoMinorLocator())\n",
    "        ax.yaxis.set_minor_locator(AutoMinorLocator())\n",
    "        ax.tick_params(which='both', bottom=True, top=True, left=True, right=True)\n",
    "        ax.tick_params(which='major', direction='inout', length=8, grid_alpha=.3)\n",
    "        ax.tick_params(which='minor', direction='in', length=2, grid_alpha=.1)\n",
    "        ax.grid(True, which='both')\n",
    "\n",
    "    #fig.suptitle(f'{self.filename} {fig_name}')\n",
    "    fig.suptitle(fig_name)\n",
    "    \n",
    "    return fig, axes\n"
   ]
  },
  {
   "cell_type": "code",
   "execution_count": null,
   "id": "18a916bf-5f9b-4712-86bd-ddac8a2b6f08",
   "metadata": {},
   "outputs": [],
   "source": [
    "default_cmap = plt.get_cmap(\"gist_earth\").copy()\n",
    "default_cmap.set_bad('gray')\n",
    "\n",
    "\n",
    "def colour_map(fig, ax, cblabel, data, cmap=default_cmap, norm=None, xlabel=None, x=None, ylabel=None, y=None):\n",
    "    \n",
    "    if norm is None:\n",
    "        percentiles = np.array([1, 16, 50, 84, 99])\n",
    "        ticks = np.nanpercentile(data, percentiles)\n",
    "        linthresh = np.median(data[data > 0])\n",
    "        norm = colors.SymLogNorm(vmin=ticks[0], vmax=ticks[-1], linthresh=linthresh)\n",
    "    else:\n",
    "        ticks = None\n",
    "    if y is None:\n",
    "        y = np.arange(data.shape[0])\n",
    "    if x is None:\n",
    "        x = np.arange(data.shape[1])\n",
    "\n",
    "    im = ax.imshow(data,\n",
    "                   extent=(x[0]-(x[1]-x[0])/2, x[-1]+(x[-1]-x[-2])/2, y[0]-(y[1]-y[0])/2, y[-1]+(y[-1]-y[-2])/2),\n",
    "                   interpolation='nearest', origin='lower',\n",
    "                   cmap=cmap,\n",
    "                   norm=norm,\n",
    "                  )\n",
    "    ax.set_aspect('auto')\n",
    "    if xlabel is not None:\n",
    "        ax.set_xlabel(xlabel)\n",
    "    if ylabel is not None:\n",
    "        ax.set_ylabel(ylabel)\n",
    "\n",
    "    cb = fig.colorbar(im, ax=ax, orientation='vertical', shrink=.9)\n",
    "    cb.ax.set_ylabel(cblabel)\n",
    "    if ticks is not None:\n",
    "        cb.ax.set_yticks(ticks=ticks, labels=[f'{value:.3g} ({percent})\\%)' for value, percent in zip(ticks, percentiles)])\n",
    "    cb.ax.tick_params(labelsize='small')\n",
    "    \n",
    "    return im, cb\n"
   ]
  },
  {
   "cell_type": "markdown",
   "id": "290b7c49",
   "metadata": {},
   "source": [
    "### Load the science data"
   ]
  },
  {
   "cell_type": "code",
   "execution_count": null,
   "id": "dc1a2868",
   "metadata": {},
   "outputs": [],
   "source": [
    "importlib.reload(weave)\n",
    "\n",
    "filename = f\"../tests/weave/single_3042890.fit\"\n",
    "rss = weave.weave_rss(filename)\n",
    "print(f\"File {filename} corresponds to object {rss.info['name']}\")\n"
   ]
  },
  {
   "cell_type": "code",
   "execution_count": null,
   "id": "08f5d674-21b7-461d-b5c6-38de90d16c50",
   "metadata": {},
   "outputs": [],
   "source": [
    "rss_wavelength = rss.wavelength.to_value(u.Angstrom)"
   ]
  },
  {
   "cell_type": "markdown",
   "id": "84d2dbf3-2ed5-4436-9ecf-440aff9daff6",
   "metadata": {},
   "source": [
    "## Wavelet test"
   ]
  },
  {
   "cell_type": "code",
   "execution_count": null,
   "id": "d26d5098-9bd0-4c0b-a24e-d611d76d009e",
   "metadata": {},
   "outputs": [],
   "source": [
    "cumulative = np.nancumsum(rss.intensity, axis=1)"
   ]
  },
  {
   "cell_type": "code",
   "execution_count": null,
   "id": "3930cd15-9f4c-4b9b-8691-b262be58ce35",
   "metadata": {},
   "outputs": [],
   "source": [
    "wavelet_h = 3  # 1.5 Angstrom (~ HWHM)\n",
    "wavelet_s = 2*wavelet_h + 1\n",
    "wavelet_wavelength = rss.wavelength[wavelet_s + wavelet_h + 1 : -wavelet_s - wavelet_h ]\n",
    "wavelet_intensity = (cumulative[:, 2*wavelet_s:-wavelet_s] - cumulative[:, wavelet_s:-2*wavelet_s]) / wavelet_s\n",
    "wavelet_intensity -= (cumulative[:,3*wavelet_s:] - cumulative[:,:-3*wavelet_s]) / (3*wavelet_s)"
   ]
  },
  {
   "cell_type": "code",
   "execution_count": null,
   "id": "8cc51135-27b7-44f1-8e2c-a04a1b2aecbf",
   "metadata": {},
   "outputs": [],
   "source": [
    "fig, axes = new_figure('wavelet')\n",
    "\n",
    "im, cb = colour_map(fig, axes[0, 0], 'wavelet', wavelet_intensity, x=rss_wavelength, xlabel='$\\lambda\\ [\\AA]$', ylabel='spec_id')\n",
    "\n",
    "'''\n",
    "ax = axes[0, 0]\n",
    "ax.plot(rss.wavelength.to(u.Angstrom), rss.intensity[0])\n",
    "ax.plot(wavelet_wavelength, wavelet_intensity[0])\n",
    "#ax.plot(rss.wavelength, cumulative[0])\n",
    "'''\n"
   ]
  },
  {
   "cell_type": "code",
   "execution_count": null,
   "id": "0be2248f-1b04-4041-9230-94433f0efc98",
   "metadata": {},
   "outputs": [],
   "source": [
    "fig, axes = new_figure('wavelet sky')\n",
    "\n",
    "ax = axes[0, 0]\n",
    "#ax.plot(wavelet_wavelength, np.nanmedian(wavelet_intensity, axis=0), 'r-')\n",
    "ax.plot(wavelet_wavelength.to(u.Angstrom), np.nanmean(wavelet_intensity, axis=0), 'k--')\n",
    "\n",
    "p16, p50, p84 = np.nanpercentile(wavelet_intensity, [16, 50, 84], axis=0)\n",
    "ax.plot(wavelet_wavelength, p50, 'r-', alpha=.5)\n",
    "ax.fill_between(wavelet_wavelength, p16, p84, color='r', alpha=0.1)"
   ]
  },
  {
   "cell_type": "code",
   "execution_count": null,
   "id": "c8093f20-9bbb-4da5-85d2-6a1a66d19e8a",
   "metadata": {},
   "outputs": [],
   "source": [
    "normed = wavelet_intensity - np.nanmean(wavelet_intensity, axis=1)[:, np.newaxis]"
   ]
  },
  {
   "cell_type": "code",
   "execution_count": null,
   "id": "8b5dd2d9-964a-4797-a266-fd58a3063f35",
   "metadata": {},
   "outputs": [],
   "source": [
    "normed /= np.sqrt(np.nanmean(normed**2, axis=1))[:, np.newaxis]"
   ]
  },
  {
   "cell_type": "code",
   "execution_count": null,
   "id": "a90e83a4-7191-41bd-8f1f-37ceb26d0462",
   "metadata": {},
   "outputs": [],
   "source": [
    "correlation = np.empty((offset.size, wavelet_intensity.shape[0]))\n",
    "correlation.shape"
   ]
  },
  {
   "cell_type": "code",
   "execution_count": null,
   "id": "14f4cb5f-e4e3-447c-9303-84ff461c16c8",
   "metadata": {},
   "outputs": [],
   "source": [
    "normed.shape"
   ]
  },
  {
   "cell_type": "code",
   "execution_count": null,
   "id": "715de1e2-09ca-4a38-8863-bf2aa5776f6d",
   "metadata": {},
   "outputs": [],
   "source": [
    "np.nanmean(normed*np.interp(wavelet_wavelength, wavelet_wavelength-offset[0], normed[0])[np.newaxis, :], axis=1).shape\n"
   ]
  },
  {
   "cell_type": "code",
   "execution_count": null,
   "id": "136d7807-d8d0-49ed-a17a-46ff304bcded",
   "metadata": {},
   "outputs": [],
   "source": [
    "def compute_correlation(wavelength, intensity, intensity_ref, offsets):\n",
    "    '''\n",
    "    Compute cross-correlation with respect to a reference spectrum.\n",
    "    '''\n",
    "    if intensity.ndim == 2:\n",
    "        normed = intensity - np.nanmean(intensity, axis=1)[:, np.newaxis]\n",
    "    elif intensity.ndim == 1:\n",
    "        normed = np.reshape(intensity - np.nanmean(intensity), (1, intensity.size))\n",
    "    else:\n",
    "        # TODO: proper error handling\n",
    "        print(f'ERROR: intensity has {intensity.ndim} dimensions')\n",
    "        raise -1\n",
    "    if intensity_ref.ndim != 1:\n",
    "        # TODO: proper error handling\n",
    "        print(f'ERROR: reference intensity has {intensity_ref.ndim} dimensions')\n",
    "        raise -1\n",
    "    \n",
    "    normed /= np.sqrt(np.nanmean(normed**2, axis=1))[:, np.newaxis]\n",
    "    normed_ref = intensity_ref - np.nanmean(intensity_ref)\n",
    "    normed_ref /= np.sqrt(np.nanmean(normed_ref**2))\n",
    "    correlation = np.empty((offsets.size, intensity.shape[0]))\n",
    "    for i, offset in enumerate(offsets):\n",
    "        correlation[i] = np.nanmean(normed*np.interp(wavelength, wavelength-offset, normed_ref)[np.newaxis, :], axis=1)\n",
    "    return correlation\n",
    "\n",
    "fig, axes = new_figure('correlation')\n",
    "\n",
    "ax = axes[0, 0]\n",
    "offset = np.linspace(-10, 10, 501) * u.AA\n",
    "correlation = compute_correlation(wavelet_wavelength, wavelet_intensity[:100], wavelet_intensity[0], offset)\n",
    "p16, p50, p84 = np.nanpercentile(correlation, [16, 50, 84], axis=1)\n",
    "ax.plot(offset, p50, 'k-+')\n",
    "ax.fill_between(offset, p16, p84, color='k', alpha=0.1)"
   ]
  },
  {
   "cell_type": "code",
   "execution_count": null,
   "id": "134b6f10-4dcf-40a9-b473-11b340eb462c",
   "metadata": {},
   "outputs": [],
   "source": [
    "fig, axes = new_figure('wavelet throughput')\n",
    "\n",
    "reference = np.nanmedian(wavelet_intensity, axis=0)\n",
    "reference_std = np.nanstd(reference)\n",
    "\n",
    "ax = axes[0, 0]\n",
    "p16, p50, p84 = np.nanpercentile(wavelet_intensity / reference[np.newaxis, :], [16, 50, 84], axis=1)\n",
    "ax.plot(p50, 'r-')\n",
    "ax.fill_between(np.arange(p50.size), p16, p84, color='r', alpha=0.1)\n",
    "\n",
    "ax.plot(np.nanstd(wavelet_intensity, axis=1) / reference_std, 'b-')"
   ]
  },
  {
   "cell_type": "markdown",
   "id": "995b2253-f6cf-4c7c-adb4-86cce50758f8",
   "metadata": {},
   "source": [
    "## Self-calibration based on sky lines"
   ]
  },
  {
   "cell_type": "code",
   "execution_count": null,
   "id": "676d211d-e116-4420-b1f6-1dcec03fb312",
   "metadata": {},
   "outputs": [],
   "source": [
    "importlib.reload(sky)\n",
    "rss_autocal = sky.SkySelfCalibration(rss)"
   ]
  },
  {
   "cell_type": "markdown",
   "id": "d7697f18-1040-426a-b39d-b42759453712",
   "metadata": {},
   "source": [
    "### Lines and continuum"
   ]
  },
  {
   "cell_type": "code",
   "execution_count": null,
   "id": "b9254319-037b-4422-b7cc-6e66f53dbae1",
   "metadata": {},
   "outputs": [],
   "source": [
    "fig, axes = new_figure('lines-continuum', nrows=3)\n",
    "\n",
    "im, cb = colour_map(fig, axes[0, 0], 'lines', rss.intensity - rss_autocal.continuum.intensity, x=rss_wavelength, xlabel='$\\lambda\\ [\\AA]$', ylabel='spec_id')\n",
    "im, cb = colour_map(fig, axes[1, 0], 'continuum', rss_autocal.continuum.intensity, x=rss_wavelength, xlabel='$\\lambda\\ [\\AA]$', ylabel='spec_id')\n",
    "im, cb = colour_map(fig, axes[2, 0], 'line emission S/N', (rss.intensity - rss_autocal.continuum.intensity) / rss_autocal.continuum.scale[:, np.newaxis], x=rss_wavelength, xlabel='$\\lambda\\ [\\AA]$', ylabel='spec_id')\n",
    "\n",
    "axes[0, 0].get_shared_y_axes().join(axes[0, 0], *axes[1:, 0])\n"
   ]
  },
  {
   "cell_type": "markdown",
   "id": "2c4289d1-72a7-4410-85a0-c49df0777429",
   "metadata": {},
   "source": [
    "### Sky lines"
   ]
  },
  {
   "cell_type": "code",
   "execution_count": null,
   "id": "04ce01d2-acfc-4637-a009-adef3407ec17",
   "metadata": {},
   "outputs": [],
   "source": [
    "fig, axes = new_figure('sky_lines')\n",
    "\n",
    "ax = axes[0, 0]\n",
    "ax.plot(rss_wavelength, rss_autocal.sky_intensity, 'k-')\n",
    "for line in rss_autocal.continuum.strong_sky_lines:\n",
    "    ax.axvspan(rss_wavelength[line['left']], rss_wavelength[line['right']], color='c', alpha=.1)\n",
    "    ax.axvline(line['sky_wavelength'], c='b', alpha=.5)"
   ]
  },
  {
   "cell_type": "code",
   "execution_count": null,
   "id": "88e77ca3-b25f-4103-959b-ce4c03b7fec3",
   "metadata": {},
   "outputs": [],
   "source": [
    "importlib.reload(sky)\n",
    "lsf = sky.LSF_estimator(wavelength_range=20*u.Angstrom, resolution=0.01*u.Angstrom)\n",
    "sky_lsf = lsf.find_LSF(rss_autocal.continuum.strong_sky_lines['sky_wavelength'], rss_autocal.dc.wavelength, rss_autocal.sky_intensity)\n",
    "weight = sky_lsf**2\n",
    "sky_offset = np.sum(weight*lsf.delta_lambda) / np.sum(weight)\n",
    "\n",
    "print(f'Sky lines FWHM = {lsf.find_FWHM(sky_lsf):.4g}, offset = {sky_offset:.4g}')"
   ]
  },
  {
   "cell_type": "code",
   "execution_count": null,
   "id": "e13f9804-da71-49cc-ab13-d4223129bec3",
   "metadata": {},
   "outputs": [],
   "source": [
    "fig, axes = new_figure('sky_LSF')\n",
    "\n",
    "ax = axes[0, 0]\n",
    "ax.plot(lsf.delta_lambda, sky_lsf, 'k-', label=f'FWHM = {lsf.find_FWHM(sky_lsf):.4g}')\n",
    "ax.axvline(sky_offset, c='k', ls='--', label=f'offset = {sky_offset:.4g}')\n",
    "ax.plot(-lsf.delta_lambda+2*sky_offset, sky_lsf, 'k:', label=f'symmetric')\n",
    "ax.legend()"
   ]
  },
  {
   "cell_type": "markdown",
   "id": "6daf419f-e4b7-4720-b5b4-66fecf7b751a",
   "metadata": {},
   "source": [
    "### Single spectrum"
   ]
  },
  {
   "cell_type": "code",
   "execution_count": null,
   "id": "215ef386-2bac-4ecc-b250-63525e6b9330",
   "metadata": {},
   "outputs": [],
   "source": [
    "from astropy import stats\n",
    "\n",
    "spec_id = 42\n",
    "line_wavelength, line_intensity = rss_autocal.measure_lines(spec_id)\n",
    "\n",
    "fig, axes = new_figure('single_calibration', nrows=2, ncols=2)\n",
    "\n",
    "ax = axes[0, 0]\n",
    "ax.set_ylabel('relative $\\Delta\\lambda\\ [\\AA]$')\n",
    "y = line_wavelength - rss_autocal.continuum.strong_sky_lines['sky_wavelength']\n",
    "location = stats.biweight.biweight_location(y)\n",
    "scale = stats.biweight.biweight_scale(y)\n",
    "ax.plot(line_wavelength, y, 'k.', label=f'sky lines in spec_id={spec_id}')\n",
    "ax.axhline(location, c='r', ls='-')\n",
    "ax.fill_between(line_wavelength, location-scale, location+scale, color='r', alpha=.1)#, label=f'${location:.2f}\\pm{scale:.2f}$')\n",
    "ax.legend()\n",
    "\n",
    "ax = axes[0, 1]\n",
    "ax.plot(rss_autocal.continuum.strong_sky_lines['sky_intensity'], y, 'k.')\n",
    "xx = np.nanpercentile(rss_autocal.continuum.strong_sky_lines['sky_intensity'], np.linspace(0, 100, 101))\n",
    "ax.axhline(location, c='r', ls='-')\n",
    "ax.fill_between(xx, location-scale, location+scale, color='r', alpha=.1, label=f'${location:.2f}\\pm{scale:.2f}$')\n",
    "ax.legend()\n",
    "\n",
    "\n",
    "ax = axes[1, 0]\n",
    "ax.set_ylabel('relative throughput')\n",
    "y = line_intensity/rss_autocal.continuum.strong_sky_lines['sky_intensity']\n",
    "location = stats.biweight.biweight_location(y)\n",
    "scale = stats.biweight.biweight_scale(y)\n",
    "ax.plot(line_wavelength, y, 'k.')\n",
    "ax.axhline(location, c='r', ls='-')\n",
    "ax.fill_between(line_wavelength, location-scale, location+scale, color='r', alpha=.1, label=f'${location:.2f}\\pm{scale:.2f}$')\n",
    "\n",
    "ax.set_xlabel('$\\lambda_{line}\\ [\\AA]$')\n",
    "\n",
    "ax = axes[1, 1]\n",
    "ax.plot(rss_autocal.continuum.strong_sky_lines['sky_intensity'], y, 'k.')\n",
    "xx = np.nanpercentile(rss_autocal.continuum.strong_sky_lines['sky_intensity'], np.linspace(0, 100, 101))\n",
    "ax.axhline(location, c='r', ls='-')\n",
    "ax.fill_between(xx, location-scale, location+scale, color='r', alpha=.1, label=f'${location:.2f}\\pm{scale:.2f}$')\n",
    "ax.legend()\n",
    "\n",
    "ax.set_xlabel('Line intensity')\n",
    "ax.set_xscale('log')\n"
   ]
  },
  {
   "cell_type": "code",
   "execution_count": null,
   "id": "e1ee9ebc-4dbe-46ed-b294-e92f5bc43f1b",
   "metadata": {},
   "outputs": [],
   "source": [
    "fig, axes = new_figure('sky_self_calibration', nrows=2)\n",
    "spec_id = np.arange(rss_autocal.wavelength_offset.size)\n",
    "\n",
    "\n",
    "ax = axes[0, 0]\n",
    "ax.set_ylabel('relative $\\Delta\\lambda\\ [\\AA]$')\n",
    "\n",
    "ax.plot(spec_id, rss_autocal.wavelength_offset, 'k-')\n",
    "ax.fill_between(spec_id, rss_autocal.wavelength_offset-rss_autocal.wavelength_offset_err, rss_autocal.wavelength_offset+rss_autocal.wavelength_offset_err, color='k', alpha=.1)\n",
    "\n",
    "\n",
    "ax = axes[1, 0]\n",
    "ax.set_ylabel('relative throughput')\n",
    "\n",
    "ax.plot(spec_id, rss_autocal.relative_throughput, 'k-')\n",
    "ax.fill_between(spec_id, rss_autocal.relative_throughput-rss_autocal.relative_throughput_err, rss_autocal.relative_throughput+rss_autocal.relative_throughput_err, color='k', alpha=.1)\n",
    "ax.plot(.97*np.nanmedian(wavelet_intensity / reference[np.newaxis, :], axis=1), 'r-')\n",
    "ax.plot(np.nanstd(wavelet_intensity, axis=1) / reference_std, 'b-')\n",
    "\n",
    "ax.set_xlabel('spec_id')\n"
   ]
  },
  {
   "cell_type": "markdown",
   "id": "7d47dc29-09fb-4054-b1c9-fec45d2895a5",
   "metadata": {},
   "source": [
    "# --- STOP ---"
   ]
  },
  {
   "cell_type": "code",
   "execution_count": null,
   "id": "def395d6-bf4d-43b8-b716-bd8cffe04165",
   "metadata": {},
   "outputs": [],
   "source": [
    "raise -1"
   ]
  },
  {
   "cell_type": "code",
   "execution_count": null,
   "id": "2f14979e-557e-4677-9011-82cf5e118ca3",
   "metadata": {},
   "outputs": [],
   "source": [
    "import koala.corrections.sky as sky\n",
    "importlib.reload(sky)\n",
    "sky, sigma = sky.BackgroundEstimator.linear(rss.intensity_corrected)"
   ]
  },
  {
   "cell_type": "code",
   "execution_count": null,
   "id": "dc814bdc-0539-4247-b9dc-018224740913",
   "metadata": {},
   "outputs": [],
   "source": [
    "total_flux = np.nanmean(rss.intensity_corrected, axis=1)\n",
    "I = rss.intensity_corrected / total_flux[:, np.newaxis]"
   ]
  },
  {
   "cell_type": "code",
   "execution_count": null,
   "id": "e5f2e544-49de-409b-986b-99e1027dc430",
   "metadata": {},
   "outputs": [],
   "source": [
    "total_norm = np.sqrt(np.nanmean(rss.intensity_corrected**2, axis=1))"
   ]
  },
  {
   "cell_type": "code",
   "execution_count": null,
   "id": "a18149e9-dafe-4a98-adc4-75e9e207fe2b",
   "metadata": {},
   "outputs": [],
   "source": [
    "sed_sky = np.nanmedian(I, axis=0)\n",
    "sed_sky /= np.nanmean(sed_sky**2)"
   ]
  },
  {
   "cell_type": "code",
   "execution_count": null,
   "id": "29c351cf-d387-47d0-9cfe-3fd99531b893",
   "metadata": {},
   "outputs": [],
   "source": [
    "sky_flux = np.nanmean(sed_sky[np.newaxis, :]*rss.intensity_corrected, axis=1)"
   ]
  },
  {
   "cell_type": "code",
   "execution_count": null,
   "id": "4c53a3c5-3e3f-40d3-bede-31bd1e82864b",
   "metadata": {},
   "outputs": [],
   "source": [
    "np.nanmedian(sky_flux)"
   ]
  },
  {
   "cell_type": "code",
   "execution_count": null,
   "id": "865e5226-aff4-4ee1-888a-0d0551516d7f",
   "metadata": {},
   "outputs": [],
   "source": [
    "fig, axes = new_figure('I-flux')\n",
    "\n",
    "ax = axes[0, 0]\n",
    "ax.plot(total_flux, sky_flux, 'k.')"
   ]
  },
  {
   "cell_type": "code",
   "execution_count": null,
   "id": "9018ed36-34e9-4dfb-9eec-ff2f58b03c3c",
   "metadata": {},
   "outputs": [],
   "source": [
    "fig, axes = new_figure('map', nrows=2)\n",
    "\n",
    "im, cb = colour_map(fig, axes[0, 0], 'I original', rss.intensity_corrected)\n",
    "im, cb = colour_map(fig, axes[1, 0], 'I norm', I)\n"
   ]
  },
  {
   "cell_type": "code",
   "execution_count": null,
   "id": "8f631ddb-6e30-4106-9f44-ce93d4bd29fd",
   "metadata": {},
   "outputs": [],
   "source": [
    "fig, axes = new_figure('hist')\n",
    "\n",
    "ax = axes[0, 0]\n",
    "ax.hist(total_flux, bins=np.nanpercentile(total_flux, np.linspace(0, 100, 26)), density=True)\n",
    "ax.set_yscale('log')\n",
    "ax.set_xscale('log')"
   ]
  },
  {
   "cell_type": "code",
   "execution_count": null,
   "id": "03b0c902-4813-4208-8fa3-94f47ddd764c",
   "metadata": {},
   "outputs": [],
   "source": [
    "fig, axes = new_figure('spectrum', nrows=2)\n",
    "\n",
    "ax = axes[0, 0]\n",
    "ax.plot(rss_wavelength, sed_obj)\n",
    "\n",
    "ax = axes[1, 0]\n",
    "ax.plot(rss_wavelength, sed_sky)"
   ]
  },
  {
   "cell_type": "code",
   "execution_count": null,
   "id": "ea718da8-65ee-457a-9e09-d86fda22c2e5",
   "metadata": {},
   "outputs": [],
   "source": [
    "fig, axes = new_figure('sky_spectrum', nrows=3)\n",
    "\n",
    "ax = axes[0, 0]\n",
    "ax.plot(rss_wavelength, np.nanmean(rss.intensity, axis=0))\n",
    "\n",
    "ax = axes[1, 0]\n",
    "ax.plot(rss_wavelength, np.nanmean(rss.intensity-sky[np.newaxis, :], axis=0))\n",
    "\n",
    "ax = axes[2, 0]\n",
    "ax.plot(rss_wavelength, sky)"
   ]
  },
  {
   "cell_type": "markdown",
   "id": "48668475",
   "metadata": {},
   "source": [
    "## Registration\n",
    "\n",
    "### Image Cross-correlation\n",
    "\n",
    "The most sofisticated method to perform the registration of extended sources included in pyKOALA is based on the cross-correlation of two images."
   ]
  },
  {
   "cell_type": "markdown",
   "id": "635a1a2d",
   "metadata": {},
   "source": [
    "from koala.register.registration import register_crosscorr\n",
    "\n",
    "figures = register_crosscorr(sci_rss, plot=True, quick_cube_pix_size=1.)\n",
    "for fig in figures:\n",
    "    plt.show(plt.figure(fig))"
   ]
  },
  {
   "cell_type": "markdown",
   "id": "3967d6e8",
   "metadata": {},
   "source": [
    "### Centroid finding\n",
    "\n",
    "A simple approach to find the offset between the different RSS is to find the center of light of the images (assuming that they contain the same sources)."
   ]
  },
  {
   "cell_type": "markdown",
   "id": "b9fdd871",
   "metadata": {},
   "source": [
    "from koala.register.registration import register_centroid\n",
    "\n",
    "figures = register_centroid(sci_rss, plot=True, quick_cube_pix_size=0.2,\n",
    "                            centroider='gauss',\n",
    "                            #subbox=[[150, 200], [20, 100]]\n",
    "                           )\n",
    "\n",
    "for fig in figures:\n",
    "    plt.show(plt.figure(fig))"
   ]
  },
  {
   "cell_type": "markdown",
   "id": "72190e07",
   "metadata": {},
   "source": [
    "### Manual\n",
    "\n",
    "Alternatively, it is also possible to provide a manual offset for the input RSS frames"
   ]
  },
  {
   "cell_type": "code",
   "execution_count": null,
   "id": "b546b37c",
   "metadata": {},
   "outputs": [],
   "source": [
    "from koala.register.registration import register_manual\n",
    "\n",
    "#register_manual(sci_rss, [[0, 0], [1.5, 0], [3, 1.5]], absolute=False)"
   ]
  },
  {
   "cell_type": "markdown",
   "id": "42236fb4",
   "metadata": {},
   "source": [
    "For interpolating RSS data into a 3D datacube we will make use of the function *build_cube*. This method requires as input:\n",
    "- A list of RSS objects. \n",
    "- The desired dimensions of the cube expressed as a 2-element tuple, corresponding to (ra, dec) in arcseconds.\n",
    "- The pixel size of the cube in arcseconds.\n",
    "- A list containing the ADR correction for every RSS (it can contain None) in the form: [(ADR_ra_1, ADR_dec_1), (ADR_ra_2, ADR_dec_2), (None, None)].\n",
    "- Additional information to be included in *cube_info*"
   ]
  },
  {
   "cell_type": "code",
   "execution_count": null,
   "id": "e089ab8a",
   "metadata": {},
   "outputs": [],
   "source": [
    "importlib.reload(cubing)\n",
    "cube = cubing.build_cube(rss_set=[rss],\n",
    "                  cube_size_arcsec=(90, 90),  # (dec, ra)\n",
    "                  pixel_size_arcsec=.5,\n",
    "                  )\n",
    "cube.info['name'] = rss.info['name'].split(' ')[0]"
   ]
  },
  {
   "cell_type": "markdown",
   "id": "0a2e1da3",
   "metadata": {},
   "source": [
    "## Sky substraction"
   ]
  },
  {
   "cell_type": "code",
   "execution_count": null,
   "id": "b2c32153",
   "metadata": {},
   "outputs": [],
   "source": [
    "import koala.corrections.sky as sky\n",
    "#import importlib\n",
    "importlib.reload(sky)\n",
    "\n",
    "skymodel = sky.SkyFromObject(cube, bckgr_estimator='mad', source_mask_nsigma=3, remove_cont=False)\n",
    "skycorrection = sky.SkySubsCorrection(skymodel)\n",
    "cube, _ = skycorrection.apply(cube)"
   ]
  },
  {
   "cell_type": "markdown",
   "id": "6f06c2ce-6c80-47bf-81f3-34972df26b53",
   "metadata": {},
   "source": [
    "## Plots"
   ]
  },
  {
   "cell_type": "markdown",
   "id": "1674a91d-eb22-4000-8b36-3cb90e7c811f",
   "metadata": {},
   "source": [
    "### Mean and median intensity maps"
   ]
  },
  {
   "cell_type": "code",
   "execution_count": null,
   "id": "99068b7f-575f-406a-91e8-e601626a9edc",
   "metadata": {},
   "outputs": [],
   "source": [
    "fig, axes = new_figure('cube_projection', nrows=2, ncols=2,\n",
    "                       sharex=True, sharey=True,\n",
    "                       figsize=(12, 8), gridspec_kw={'hspace': .1, 'wspace': 0.5})\n",
    "\n",
    "im, cb = colour_map(fig, axes[0, 0], 'raw mean', np.nanmean(cube.intensity, axis=0))\n",
    "im, cb = colour_map(fig, axes[0, 1], 'corrected mean', np.nanmean(cube.intensity_corrected, axis=0))\n",
    "im, cb = colour_map(fig, axes[1, 0], 'raw median', np.nanmedian(cube.intensity, axis=0))\n",
    "im, cb = colour_map(fig, axes[1, 1], 'corrected median', np.nanmedian(cube.intensity_corrected, axis=0))\n"
   ]
  },
  {
   "cell_type": "code",
   "execution_count": null,
   "id": "a4c8107e-ce30-4cd9-bf3a-53fdb586d0cd",
   "metadata": {},
   "outputs": [],
   "source": [
    "fig, axes = new_figure('mean_spectrum', nrows=3)\n",
    "\n",
    "ax = axes[0, 0]\n",
    "ax.plot(cube.wavelength, np.nanmean(cube.intensity, axis=(1,2)))\n",
    "\n",
    "ax = axes[1, 0]\n",
    "ax.plot(cube.wavelength, np.nanmean(cube.intensity_corrected, axis=(1,2)))\n",
    "ax.set_ylim(-.005, .01)\n",
    "\n",
    "ax = axes[2, 0]\n",
    "ax.plot(skymodel.wavelength, skymodel.bckgr)\n"
   ]
  },
  {
   "cell_type": "code",
   "execution_count": null,
   "id": "02aae52d-d38a-4728-aeaa-68132c3ba8da",
   "metadata": {},
   "outputs": [],
   "source": []
  }
 ],
 "metadata": {
  "kernelspec": {
   "display_name": "Python 3 (ipykernel)",
   "language": "python",
   "name": "python3"
  },
  "language_info": {
   "codemirror_mode": {
    "name": "ipython",
    "version": 3
   },
   "file_extension": ".py",
   "mimetype": "text/x-python",
   "name": "python",
   "nbconvert_exporter": "python",
   "pygments_lexer": "ipython3",
   "version": "3.8.10"
  },
  "toc-autonumbering": false
 },
 "nbformat": 4,
 "nbformat_minor": 5
}
