{
 "cells": [
  {
   "cell_type": "markdown",
   "id": "0293e361",
   "metadata": {},
   "source": [
    "# Corrections based on sky emission lines\n",
    "\n",
    "Compute relative offsets in wavelength (in pixels) and flux (arbitrary units) based on the sky emission lines, detected through a wavelet filter"
   ]
  },
  {
   "cell_type": "markdown",
   "id": "b6d607f5-ccca-46c1-a304-043a64936c41",
   "metadata": {},
   "source": [
    "# 1. Initialisation"
   ]
  },
  {
   "cell_type": "code",
   "execution_count": null,
   "id": "de348001-aa80-4816-972b-ed31b3e44b1f",
   "metadata": {},
   "outputs": [],
   "source": [
    "%matplotlib ipympl\n",
    "from matplotlib import pyplot as plt\n",
    "import numpy as np"
   ]
  },
  {
   "cell_type": "code",
   "execution_count": null,
   "id": "0351b570-0d66-437f-9ac3-e24444947bd6",
   "metadata": {},
   "outputs": [],
   "source": [
    "from pykoala import __version__\n",
    "from pykoala.instruments import koala_ifu, weave\n",
    "from pykoala.corrections import sky\n",
    "from pykoala.corrections.throughput import ThroughputCorrection\n",
    "from pykoala.corrections.wavelength import WavelengthCorrection\n",
    "print(\"pyKOALA version: \", __version__)"
   ]
  },
  {
   "cell_type": "markdown",
   "id": "75672d85-c39a-451a-a46e-f750c4357707",
   "metadata": {},
   "source": [
    "The following will probably disappear in the final version of the tutorial"
   ]
  },
  {
   "cell_type": "code",
   "execution_count": null,
   "id": "c8a0240d-3202-45a8-85dd-d640e4d6c08e",
   "metadata": {},
   "outputs": [],
   "source": [
    "import importlib\n",
    "from astropy import stats\n",
    "from astropy import units as u\n",
    "from pykoala.plotting.utils import new_figure, colour_map\n",
    "import scipy"
   ]
  },
  {
   "cell_type": "markdown",
   "id": "290b7c49",
   "metadata": {},
   "source": [
    "# 2. Load the science data\n",
    "This must be a Row-Stacked Spectra (RSS) file. Please choose one of the following examples"
   ]
  },
  {
   "cell_type": "code",
   "execution_count": null,
   "id": "03b75586-cf2d-4e5d-8798-38ae98c9b4fa",
   "metadata": {},
   "outputs": [],
   "source": [
    "example = 'KOALA'\n",
    "#example = 'WEAVE'"
   ]
  },
  {
   "cell_type": "markdown",
   "id": "ecfefaa0-403c-42ef-811b-89a067177e45",
   "metadata": {},
   "source": [
    "KOALA:"
   ]
  },
  {
   "cell_type": "code",
   "execution_count": null,
   "id": "e74b6548-e0cf-4d1c-9383-bd6db3c2cfdf",
   "metadata": {},
   "outputs": [],
   "source": [
    "if example == 'KOALA':\n",
    "    filename = f\"../data/27feb20036red.fits\"\n",
    "    rss0 = koala_ifu.koala_rss(filename)"
   ]
  },
  {
   "cell_type": "markdown",
   "id": "92234ead-3106-46d5-8df8-740150f37927",
   "metadata": {},
   "source": [
    "WEAVE:"
   ]
  },
  {
   "cell_type": "code",
   "execution_count": null,
   "id": "66885b26-0dfe-478d-9976-c2d3f2b9e04d",
   "metadata": {},
   "outputs": [],
   "source": [
    "if example == 'WEAVE':\n",
    "    filename = f\"../data/weave/single_3042890.fit\"\n",
    "    rss0 = weave.weave_rss(filename)"
   ]
  },
  {
   "cell_type": "markdown",
   "id": "78cd6529-e090-4084-a48d-cc5e870e8f56",
   "metadata": {},
   "source": [
    "## Summary"
   ]
  },
  {
   "cell_type": "code",
   "execution_count": null,
   "id": "09e6b80a-bb6a-4415-9f6e-1ba560a8efc8",
   "metadata": {},
   "outputs": [],
   "source": [
    "print(f\"Analysing object {rss0.info['name']} read from {filename}\")\n",
    "print('- info:')\n",
    "print(rss0.info.keys())\n",
    "print('- log:')\n",
    "rss0.log.show()\n"
   ]
  },
  {
   "cell_type": "markdown",
   "id": "794ae740-77de-4211-a2dd-a92b688ab640",
   "metadata": {},
   "source": [
    "# 3. Wavelet filter"
   ]
  },
  {
   "cell_type": "code",
   "execution_count": null,
   "id": "eb206ff8-d0e0-4282-a86e-9633d245625a",
   "metadata": {},
   "outputs": [],
   "source": [
    "importlib.reload(sky)"
   ]
  },
  {
   "cell_type": "markdown",
   "id": "a9615d66-3a43-40be-8cef-f917a19e228a",
   "metadata": {},
   "source": [
    "## First iteration"
   ]
  },
  {
   "cell_type": "code",
   "execution_count": null,
   "id": "70b28011-dbf6-4fcc-8ea3-7d48df1d2394",
   "metadata": {},
   "outputs": [],
   "source": [
    "wavelet1 = sky.WaveletFilter(rss0)"
   ]
  },
  {
   "cell_type": "code",
   "execution_count": null,
   "id": "afc7f504-5dec-4415-abb7-267b46be8d6d",
   "metadata": {
    "tags": []
   },
   "outputs": [],
   "source": [
    "throughput_corr = ThroughputCorrection(throughput=wavelet1.get_throughput_object())"
   ]
  },
  {
   "cell_type": "code",
   "execution_count": null,
   "id": "19e51811-f1a2-4f48-b72f-ce440953172f",
   "metadata": {
    "tags": []
   },
   "outputs": [],
   "source": [
    "wave_corr = WavelengthCorrection(offset=wavelet1.get_wavelength_offset())"
   ]
  },
  {
   "cell_type": "code",
   "execution_count": null,
   "id": "b98bac96-fa47-4102-be3f-c991dad4b8b8",
   "metadata": {},
   "outputs": [],
   "source": [
    "rss1 = wave_corr.apply(rss0)\n",
    "rss1 = throughput_corr.apply(rss1)"
   ]
  },
  {
   "cell_type": "markdown",
   "id": "0fc78a57-c08e-4318-ae7a-bd9d5b0be1d6",
   "metadata": {},
   "source": [
    "## Second iteration"
   ]
  },
  {
   "cell_type": "code",
   "execution_count": null,
   "id": "42c8fc78-c0f7-4b66-9873-c0d17b712f93",
   "metadata": {},
   "outputs": [],
   "source": [
    "wavelet2 = sky.WaveletFilter(rss1)"
   ]
  },
  {
   "cell_type": "code",
   "execution_count": null,
   "id": "7a58c000-c4bb-4de2-b51b-b603950fa91a",
   "metadata": {
    "tags": []
   },
   "outputs": [],
   "source": [
    "throughput_corr = ThroughputCorrection(throughput=wavelet2.get_throughput_object())"
   ]
  },
  {
   "cell_type": "code",
   "execution_count": null,
   "id": "526b4915-cded-45af-8a45-ff8e6f808a89",
   "metadata": {
    "tags": []
   },
   "outputs": [],
   "source": [
    "wave_corr = WavelengthCorrection(offset=wavelet2.get_wavelength_offset())"
   ]
  },
  {
   "cell_type": "code",
   "execution_count": null,
   "id": "10b31160-c60f-483e-a129-b1602fb26a66",
   "metadata": {},
   "outputs": [],
   "source": [
    "rss2 = wave_corr.apply(rss1)\n",
    "rss2 = throughput_corr.apply(rss2)"
   ]
  },
  {
   "cell_type": "code",
   "execution_count": null,
   "id": "968ee517-7bbb-4d57-a81d-8b376d82c546",
   "metadata": {},
   "outputs": [],
   "source": [
    "rss2.log.show()"
   ]
  },
  {
   "cell_type": "markdown",
   "id": "7814656d-c0d0-4822-a4d2-73676a09be20",
   "metadata": {},
   "source": [
    "# 4. Quality control plots"
   ]
  },
  {
   "cell_type": "markdown",
   "id": "3f0318dc-efb2-4c30-94f3-9cc41887e730",
   "metadata": {},
   "source": [
    "## Wavlelet filter"
   ]
  },
  {
   "cell_type": "code",
   "execution_count": null,
   "id": "910f9559-c9e7-4681-bcf6-4feeb9c79c48",
   "metadata": {},
   "outputs": [],
   "source": [
    "wavelet1.qc_plots()"
   ]
  },
  {
   "cell_type": "markdown",
   "id": "26904aca-deb0-4197-b21f-8fac6f481945",
   "metadata": {},
   "source": [
    "## Relative calibration"
   ]
  },
  {
   "cell_type": "code",
   "execution_count": null,
   "id": "cd597c06-cad3-4f9d-abbc-a0e32ce58e9e",
   "metadata": {},
   "outputs": [],
   "source": [
    "fig, axes = new_figure('sky-based relative calibration', nrows=2)\n",
    "\n",
    "ax = axes[0, 0]\n",
    "ax.set_ylabel('relative throughput')\n",
    "ax.set_ylim(.4, 2.1)\n",
    "\n",
    "ax.plot(wavelet1.fibre_throughput, 'k-', label='iter 1')\n",
    "ax.plot(wavelet2.fibre_throughput, 'k-', alpha=.5, label='iter 2')\n",
    "\n",
    "p16, p50, p84 = np.nanpercentile(wavelet1.filtered / wavelet1.sky[np.newaxis, :], [16, 50, 84], axis=1)\n",
    "ax.plot(p50, 'r--', alpha=.5)\n",
    "ax.fill_between(np.arange(p50.size), p16, p84, color='r', alpha=0.1)\n",
    "p16, p50, p84 = np.nanpercentile(wavelet2.filtered / wavelet2.sky[np.newaxis, :], [16, 50, 84], axis=1)\n",
    "ax.plot(p50, 'y--', alpha=.5)\n",
    "\n",
    "ax.legend()\n",
    "\n",
    "\n",
    "ax = axes[1, 0]\n",
    "ax.set_ylabel('relative offset [pix]')\n",
    "\n",
    "ax.plot(wavelet1.fibre_offset, 'k-', label='iter 1')\n",
    "ax.plot(wavelet2.fibre_offset, 'k-', alpha=.5, label='iter 2')\n",
    "\n",
    "ax.legend()\n",
    "ax.set_xlabel('fibre')\n",
    ","
   ]
  },
  {
   "cell_type": "markdown",
   "id": "c795e84d-5017-48d0-b567-2b5ba9a92a4f",
   "metadata": {},
   "source": [
    "## Single fibre tests"
   ]
  },
  {
   "cell_type": "code",
   "execution_count": null,
   "id": "45f35529-64e8-4295-a371-194d4393820c",
   "metadata": {},
   "outputs": [],
   "source": [
    "fibre = 42"
   ]
  },
  {
   "cell_type": "code",
   "execution_count": null,
   "id": "0f2c870d-5219-448d-b251-1bc67f82c929",
   "metadata": {},
   "outputs": [],
   "source": [
    "fig, axes = new_figure('single throughput', nrows=3, sharex=False, sharey=False, gridspec_kw={'hspace': .2})\n",
    "\n",
    "ax = axes[0, 0]\n",
    "ax.hist(wavelet1.filtered[fibre]*wavelet1.fibre_throughput[fibre] / wavelet1.sky, bins=np.linspace(0, 7.5, 101), color='k', alpha=.2)\n",
    "ax.hist(wavelet1.filtered[fibre] / wavelet1.sky, bins=np.linspace(0, 7.5, 101), color='b', alpha=.5)\n",
    "\n",
    "ax = axes[1, 0]\n",
    "ax.set_ylabel('wavelet')\n",
    "ax.plot(wavelet1.wavelength, wavelet1.sky, 'b:', alpha=.5, label='sky')\n",
    "ax.plot(wavelet1.wavelength, wavelet1.filtered[fibre]*wavelet1.fibre_throughput[fibre], 'k--', alpha=.2, label='data')\n",
    "ax.plot(wavelet1.wavelength, wavelet1.filtered[fibre], 'k-', alpha=.5, label='throughput-corrected')\n",
    "ax.plot(wavelet2.wavelength, wavelet2.filtered[fibre], 'r-', alpha=.5, label='iter 2')\n",
    "ax.legend()\n",
    "\n",
    "\n",
    "ax = axes[2, 0]\n",
    "ax.set_ylabel('intensity')\n",
    "ax.sharex(axes[1, 0])\n",
    "\n",
    "x = rss0.wavelength\n",
    "if isinstance(x, u.Quantity):\n",
    "    x = x.to_value(u.AA)\n",
    "\n",
    "ax.plot(x, rss0.intensity[fibre], 'k--', alpha=.2, label=f'fibre {fibre}')\n",
    "median_sky = np.nanmedian(rss0.intensity, axis=0)\n",
    "ax.plot(x, median_sky, 'c-', alpha=.5, label='median sky')\n",
    "ax.plot(x, rss0.intensity[fibre] - median_sky, 'c--', alpha=.2, label='sky-subtracted')\n",
    "\n",
    "\n",
    "ax.plot(x, rss1.intensity[fibre], 'k-', alpha=.5, label='corrected')\n",
    "median_sky = np.nanmedian(rss1.intensity, axis=0)\n",
    "ax.plot(x, median_sky, 'b:', alpha=.5, label='median sky')\n",
    "ax.plot(x, rss1.intensity[fibre] - median_sky, 'c-', alpha=.5, label='sky-subtracted')\n",
    "\n",
    "ax.plot(x, rss2.intensity[fibre], 'r-', alpha=.5, label='iter 2')\n",
    "median_sky = np.nanmedian(rss2.intensity, axis=0)\n",
    "ax.plot(x, rss2.intensity[fibre] - median_sky, 'r:', alpha=.5, label='sky')\n",
    "\n",
    "ax.legend()\n",
    "ax.set_xlabel('wavelength [\\AA]')\n",
    ","
   ]
  },
  {
   "cell_type": "code",
   "execution_count": null,
   "id": "66b58c19-611b-4607-9720-d6646a78c711",
   "metadata": {},
   "outputs": [],
   "source": [
    "fig, axes = new_figure(f'single wavelength calibration')\n",
    "\n",
    "ax = axes[0, 0]\n",
    "\n",
    "mid = wavelet1.wavelength.size // 2\n",
    "s = wavelet1.scale\n",
    "x = np.nanmedian(wavelet1.filtered, axis=0)\n",
    "x[~ np.isfinite(x)] = 0\n",
    "x = scipy.signal.fftconvolve(wavelet1.filtered[fibre], x[::-1], mode='same')[mid-s:mid+s+1]\n",
    "idx = np.arange(x.size)\n",
    "\n",
    "ax.plot(idx - s, x/np.max(x), 'k-', label=f'fibre {fibre}')\n",
    "ax.axvline(wavelet1.fibre_offset[fibre], c='k', ls=':', label=f'offset = {wavelet1.fibre_offset[fibre]:.2f} pix')\n",
    "ax.plot(2*wavelet1.fibre_offset[fibre] - (idx - s), x/np.max(x), 'k--', alpha=.25, label='reflected cross-correlation')\n",
    "\n",
    "ax.legend()\n",
    "ax.set_ylabel('cross-correlation with sky')\n",
    "ax.set_xlabel('offset [pix]')\n",
    ","
   ]
  },
  {
   "cell_type": "markdown",
   "id": "1048b163-ee29-4b39-9f05-7ab90ac439d0",
   "metadata": {},
   "source": [
    "## Corrected intensities"
   ]
  },
  {
   "cell_type": "code",
   "execution_count": null,
   "id": "2cfc7378-3b76-4976-b18b-243f2ddc7daf",
   "metadata": {},
   "outputs": [],
   "source": [
    "fig, axes = new_figure('skyline-based correction',\n",
    "                       nrows=2, ncols=3, sharex=False, sharey=False,\n",
    "                       gridspec_kw={'left': 0.07, 'right':0.9, 'width_ratios': [1, 1, .05], 'hspace': 0.25, 'wspace': 0.25})\n",
    "\n",
    "x = rss0.wavelength\n",
    "if isinstance(x, u.Quantity):\n",
    "    x = x.to_value(u.AA)\n",
    "\n",
    "im, cb = colour_map(fig, axes[0, 0], 'intensity', rss0.intensity, x=x, ylabel='fibre', cbax=axes[0, 2])\n",
    "im, cb = colour_map(fig, axes[0, 1], '.', rss1.intensity, x=x, norm=im.norm, cbax=False)\n",
    "\n",
    "im, cb = colour_map(fig, axes[1, 0], 'median-subtracted', rss0.intensity - np.nanmedian(rss0.intensity, axis=0), x=x, cbax=axes[1, 2])\n",
    "im, cb = colour_map(fig, axes[1, 1], '.', rss1.intensity - np.nanmedian(rss1.intensity, axis=0), x=x, norm=im.norm, cbax=False)\n",
    "\n",
    "for ax in [axes[0, 1], axes[1, 0], axes[1, 1]]:\n",
    "    ax.sharex(axes[0, 0])\n",
    "    ax.sharey(axes[0, 0])\n"
   ]
  }
 ],
 "metadata": {
  "kernelspec": {
   "display_name": "Python 3 (ipykernel)",
   "language": "python",
   "name": "python3"
  },
  "language_info": {
   "codemirror_mode": {
    "name": "ipython",
    "version": 3
   },
   "file_extension": ".py",
   "mimetype": "text/x-python",
   "name": "python",
   "nbconvert_exporter": "python",
   "pygments_lexer": "ipython3",
   "version": "3.8.10"
  },
  "toc-autonumbering": false
 },
 "nbformat": 4,
 "nbformat_minor": 5
}
