{
 "cells": [
  {
   "cell_type": "markdown",
   "id": "0293e361",
   "metadata": {},
   "source": [
    "# Corrections based on sky emission lines\n",
    "\n",
    "Compute relative offsets in wavelength (in pixels) and flux (arbitrary units) based on the sky emission lines, detected through a wavelet filter"
   ]
  },
  {
   "cell_type": "markdown",
   "id": "b6d607f5-ccca-46c1-a304-043a64936c41",
   "metadata": {},
   "source": [
    "# 1. Initialisation"
   ]
  },
  {
   "cell_type": "code",
   "execution_count": null,
   "id": "de348001-aa80-4816-972b-ed31b3e44b1f",
   "metadata": {},
   "outputs": [],
   "source": [
    "%matplotlib ipympl\n",
    "from matplotlib import pyplot as plt\n",
    "import numpy as np"
   ]
  },
  {
   "cell_type": "code",
   "execution_count": null,
   "id": "0351b570-0d66-437f-9ac3-e24444947bd6",
   "metadata": {},
   "outputs": [],
   "source": [
    "from pykoala import __version__\n",
    "from pykoala.instruments import koala_ifu, weave\n",
    "from pykoala.corrections import sky\n",
    "from pykoala.corrections.throughput import ThroughputCorrection\n",
    "print(\"pyKOALA version: \", __version__)"
   ]
  },
  {
   "cell_type": "markdown",
   "id": "75672d85-c39a-451a-a46e-f750c4357707",
   "metadata": {},
   "source": [
    "The following will probably disappear in the final version of the tutorial"
   ]
  },
  {
   "cell_type": "code",
   "execution_count": null,
   "id": "c8a0240d-3202-45a8-85dd-d640e4d6c08e",
   "metadata": {},
   "outputs": [],
   "source": [
    "import importlib\n",
    "from time import time\n",
    "from astropy import stats\n",
    "from astropy import units as u\n",
    "from pykoala.plotting.utils import new_figure, colour_map"
   ]
  },
  {
   "cell_type": "markdown",
   "id": "290b7c49",
   "metadata": {},
   "source": [
    "# 2. Load the science data\n",
    "This must be a Row-Stacked Spectra (RSS) file. Please choose one of the following examples"
   ]
  },
  {
   "cell_type": "code",
   "execution_count": null,
   "id": "03b75586-cf2d-4e5d-8798-38ae98c9b4fa",
   "metadata": {},
   "outputs": [],
   "source": [
    "example = 'KOALA'\n",
    "#example = 'WEAVE'"
   ]
  },
  {
   "cell_type": "markdown",
   "id": "ecfefaa0-403c-42ef-811b-89a067177e45",
   "metadata": {},
   "source": [
    "KOALA:"
   ]
  },
  {
   "cell_type": "code",
   "execution_count": null,
   "id": "e74b6548-e0cf-4d1c-9383-bd6db3c2cfdf",
   "metadata": {},
   "outputs": [],
   "source": [
    "if example == 'KOALA':\n",
    "    filename = f\"../data/27feb20036red.fits\"\n",
    "    rss = koala_ifu.koala_rss(filename)\n",
    "    rss_wavelength_AA = rss.wavelength"
   ]
  },
  {
   "cell_type": "markdown",
   "id": "92234ead-3106-46d5-8df8-740150f37927",
   "metadata": {},
   "source": [
    "WEAVE:"
   ]
  },
  {
   "cell_type": "code",
   "execution_count": null,
   "id": "66885b26-0dfe-478d-9976-c2d3f2b9e04d",
   "metadata": {},
   "outputs": [],
   "source": [
    "if example == 'WEAVE':\n",
    "    filename = f\"../data/weave/single_3042890.fit\"\n",
    "    rss = weave.weave_rss(filename)\n",
    "    rss_wavelength_AA = rss.wavelength.to_value(u.Angstrom)"
   ]
  },
  {
   "cell_type": "markdown",
   "id": "78cd6529-e090-4084-a48d-cc5e870e8f56",
   "metadata": {},
   "source": [
    "## Basic information:"
   ]
  },
  {
   "cell_type": "code",
   "execution_count": null,
   "id": "09e6b80a-bb6a-4415-9f6e-1ba560a8efc8",
   "metadata": {},
   "outputs": [],
   "source": [
    "print(f\"Analysing object {rss.info['name']} read from {filename}\")"
   ]
  },
  {
   "cell_type": "markdown",
   "id": "794ae740-77de-4211-a2dd-a92b688ab640",
   "metadata": {},
   "source": [
    "# 3. Wavelet filter"
   ]
  },
  {
   "cell_type": "code",
   "execution_count": null,
   "id": "70b28011-dbf6-4fcc-8ea3-7d48df1d2394",
   "metadata": {},
   "outputs": [],
   "source": [
    "importlib.reload(sky)\n",
    "wavelet = sky.WaveletFilter(rss)"
   ]
  },
  {
   "cell_type": "code",
   "execution_count": null,
   "id": "910f9559-c9e7-4681-bcf6-4feeb9c79c48",
   "metadata": {},
   "outputs": [],
   "source": [
    "wavelet.qc_plots()"
   ]
  },
  {
   "cell_type": "markdown",
   "id": "0088e8e9-1a74-4777-aba7-0cbd61372b5d",
   "metadata": {},
   "source": [
    "# 4. Fibre throughput"
   ]
  },
  {
   "cell_type": "code",
   "execution_count": null,
   "id": "134b6f10-4dcf-40a9-b473-11b340eb462c",
   "metadata": {},
   "outputs": [],
   "source": [
    "fig, axes = new_figure('wavelet throughput')\n",
    "\n",
    "reference = np.nanmedian(wavelet.filtered, axis=0)\n",
    "reference_std = np.nanstd(reference)\n",
    "\n",
    "ax = axes[0, 0]\n",
    "\n",
    "ax.plot(wavelet.fibre_throughput, 'k-')\n",
    "\n",
    "p16, p50, p84 = np.nanpercentile(wavelet.filtered / wavelet.sky[np.newaxis, :], [16, 50, 84], axis=1)\n",
    "ax.plot(p50, 'r--', alpha=.5)\n",
    "ax.fill_between(np.arange(p50.size), p16, p84, color='r', alpha=0.1)\n",
    "\n",
    "ax.set_ylim(.4, 2.1)"
   ]
  },
  {
   "cell_type": "markdown",
   "id": "bb256aef-b698-4aa3-8524-7fe80b2507c6",
   "metadata": {},
   "source": [
    "Test a single fibre:"
   ]
  },
  {
   "cell_type": "code",
   "execution_count": null,
   "id": "32929d8a-a832-4e83-97f8-72c7a30ca91f",
   "metadata": {},
   "outputs": [],
   "source": [
    "fibre = 140\n",
    "\n",
    "fig, axes = new_figure('test throughput', nrows=3, sharex=False, sharey=False, gridspec_kw={'hspace': .2})\n",
    "\n",
    "ax = axes[0, 0]\n",
    "ax.hist(wavelet.filtered[fibre] / wavelet.sky, bins=np.linspace(.5, 1.5, 101))\n",
    "\n",
    "ax = axes[1, 0]\n",
    "ax.plot(wavelet.wavelength, wavelet.filtered[fibre]*wavelet.fibre_throughput[fibre], 'k--', alpha=.2)\n",
    "ax.plot(wavelet.wavelength, wavelet.filtered[fibre], 'k-', alpha=.5)\n",
    "ax.plot(wavelet.wavelength, wavelet.sky, 'b:', alpha=.5)\n",
    "\n",
    "ax = axes[2, 0]\n",
    "ax.sharex(axes[1, 0])\n",
    "median_sky = np.nanmedian(rss.intensity, axis=0)\n",
    "x = rss.wavelength\n",
    "if isinstance(x, u.Quantity):\n",
    "    x = x.to_value(u.AA)\n",
    "ax.plot(x, rss.intensity[fibre], 'k--', alpha=.2)\n",
    "ax.plot(x, rss.intensity[fibre]/wavelet.fibre_throughput[fibre], 'k-', alpha=.5)\n",
    "ax.plot(x, rss.intensity[fibre]/wavelet.fibre_throughput[fibre] - median_sky, 'c-', alpha=.5)\n",
    "ax.plot(x, median_sky, 'b:', alpha=.5)\n",
    "\n",
    ","
   ]
  },
  {
   "cell_type": "markdown",
   "id": "161f82f3-bfc7-48b8-98e9-4bc0c31b53f5",
   "metadata": {},
   "source": [
    "## Create and apply throughput correction"
   ]
  },
  {
   "cell_type": "code",
   "execution_count": null,
   "id": "ce360d0c-8dbf-4004-a17f-c94cc1af5679",
   "metadata": {},
   "outputs": [],
   "source": [
    "throughput_corr = ThroughputCorrection(throughput=wavelet.get_throughput_object())"
   ]
  },
  {
   "cell_type": "code",
   "execution_count": null,
   "id": "f7d96658-ae35-4271-a6e3-195c297b8378",
   "metadata": {},
   "outputs": [],
   "source": [
    "rss_out = throughput_corr.apply(rss)"
   ]
  },
  {
   "cell_type": "code",
   "execution_count": null,
   "id": "2cfc7378-3b76-4976-b18b-243f2ddc7daf",
   "metadata": {},
   "outputs": [],
   "source": [
    "fig, axes = new_figure('throughput correction', nrows=2, ncols=2, sharey=False, gridspec_kw={'width_ratios': [1, .02], 'hspace': 0.05, 'wspace': .1})\n",
    "\n",
    "x = rss.wavelength\n",
    "if isinstance(x, u.Quantity):\n",
    "    x = x.to_value(u.AA)\n",
    "\n",
    "im, cb = colour_map(fig, axes[0, 0], 'before', rss.intensity - np.nanmedian(rss.intensity, axis=0), x=x, ylabel='spec_id', cbax=axes[0, 1])\n",
    "im, cb = colour_map(fig, axes[1, 0], 'after', rss_out.intensity - np.nanmedian(rss_out.intensity, axis=0), x=x, ylabel='spec_id', cbax=axes[1, 1])\n",
    "\n",
    "axes[1, 0].sharey(axes[0, 0])\n"
   ]
  },
  {
   "cell_type": "markdown",
   "id": "58611783-5119-482c-a542-ebcfb9ec0a50",
   "metadata": {},
   "source": [
    "# 5. Wavelength calibration"
   ]
  },
  {
   "cell_type": "markdown",
   "id": "9a608a60-5d81-49f4-9b53-d18144a8240f",
   "metadata": {},
   "source": [
    "# -- OLD STUFF --"
   ]
  },
  {
   "cell_type": "code",
   "execution_count": null,
   "id": "b6a0a453-80b9-4cb9-bc13-1e50b86e0daf",
   "metadata": {},
   "outputs": [],
   "source": [
    "raise -1"
   ]
  },
  {
   "cell_type": "markdown",
   "id": "7db1b21c-161b-42ae-97b5-9c331f3a8b4a",
   "metadata": {},
   "source": [
    "## Wavelength calibration"
   ]
  },
  {
   "cell_type": "code",
   "execution_count": null,
   "id": "e08bc116-1e3b-48e8-9121-9a33bb9f8352",
   "metadata": {},
   "outputs": [],
   "source": [
    "def compute_correlation(wavelength, intensity, intensity_ref, offsets):\n",
    "    '''\n",
    "    Compute cross-correlation with respect to a reference spectrum.\n",
    "    '''\n",
    "    t0 = time()\n",
    "    print('> Computing cross-correlation; please be patient...')\n",
    "    \n",
    "    if intensity.ndim == 2:\n",
    "        normed = intensity - np.nanmean(intensity, axis=1)[:, np.newaxis]\n",
    "    elif intensity.ndim == 1:\n",
    "        normed = np.reshape(intensity - np.nanmean(intensity), (1, intensity.size))\n",
    "    else:\n",
    "        # TODO: proper error handling\n",
    "        print(f'ERROR: intensity has {intensity.ndim} dimensions')\n",
    "        raise -1\n",
    "    if intensity_ref.ndim != 1:\n",
    "        # TODO: proper error handling\n",
    "        print(f'ERROR: reference intensity has {intensity_ref.ndim} dimensions')\n",
    "        raise -1\n",
    "    \n",
    "    normed /= np.sqrt(np.nanmean(normed**2, axis=1))[:, np.newaxis]\n",
    "    normed_ref = intensity_ref - np.nanmean(intensity_ref)\n",
    "    normed_ref /= np.sqrt(np.nanmean(normed_ref**2))\n",
    "    correlation = np.empty((offsets.size, normed.shape[0]))\n",
    "    for i, offset in enumerate(offsets):\n",
    "        # TODO: proper interpolation based on cumulant\n",
    "        correlation[i] = np.nanmean(normed*np.interp(wavelength, wavelength-offset, normed_ref)[np.newaxis, :], axis=1)\n",
    "    print(f\"  Done ({time()-t0:.3g} s)\")\n",
    "    return correlation"
   ]
  },
  {
   "cell_type": "code",
   "execution_count": null,
   "id": "dc573837-e705-47b5-b057-6473b812033d",
   "metadata": {},
   "outputs": [],
   "source": [
    "offset = np.linspace(-10, 10, 501)\n",
    "old_correlation = compute_correlation(wavelet.wavelength, wavelet.filtered, wavelet.sky, offset)"
   ]
  },
  {
   "cell_type": "code",
   "execution_count": null,
   "id": "5183af34-846d-4cca-aee7-a7acd332c7fa",
   "metadata": {
    "tags": []
   },
   "outputs": [],
   "source": [
    "old_fibre_offset = np.nanmean(offset[:, np.newaxis] * old_correlation**2, axis=0) / np.nanmean(old_correlation**2, axis=0)"
   ]
  },
  {
   "cell_type": "markdown",
   "id": "39c8b8be-c15e-4cc2-89c1-a391798bc04b",
   "metadata": {},
   "source": [
    "## Self-calibration based on sky lines"
   ]
  },
  {
   "cell_type": "code",
   "execution_count": null,
   "id": "676d211d-e116-4420-b1f6-1dcec03fb312",
   "metadata": {},
   "outputs": [],
   "source": [
    "importlib.reload(sky)\n",
    "rss_autocal = sky.SkySelfCalibration(rss)"
   ]
  },
  {
   "cell_type": "markdown",
   "id": "d7697f18-1040-426a-b39d-b42759453712",
   "metadata": {},
   "source": [
    "### Lines and continuum"
   ]
  },
  {
   "cell_type": "code",
   "execution_count": null,
   "id": "b9254319-037b-4422-b7cc-6e66f53dbae1",
   "metadata": {},
   "outputs": [],
   "source": [
    "fig, axes = new_figure('lines-continuum', nrows=3)\n",
    "\n",
    "im, cb = colour_map(fig, axes[0, 0], 'lines', rss.intensity - rss_autocal.continuum.intensity, x=rss_wavelength, xlabel='$\\lambda\\ [\\AA]$', ylabel='spec_id')\n",
    "im, cb = colour_map(fig, axes[1, 0], 'continuum', rss_autocal.continuum.intensity, x=rss_wavelength, xlabel='$\\lambda\\ [\\AA]$', ylabel='spec_id')\n",
    "im, cb = colour_map(fig, axes[2, 0], 'line emission S/N', (rss.intensity - rss_autocal.continuum.intensity) / rss_autocal.continuum.scale[:, np.newaxis], x=rss_wavelength, xlabel='$\\lambda\\ [\\AA]$', ylabel='spec_id')\n",
    "\n",
    "axes[0, 0].get_shared_y_axes().join(axes[0, 0], *axes[1:, 0])\n"
   ]
  },
  {
   "cell_type": "markdown",
   "id": "2c4289d1-72a7-4410-85a0-c49df0777429",
   "metadata": {},
   "source": [
    "### Sky lines"
   ]
  },
  {
   "cell_type": "code",
   "execution_count": null,
   "id": "04ce01d2-acfc-4637-a009-adef3407ec17",
   "metadata": {},
   "outputs": [],
   "source": [
    "fig, axes = new_figure('sky_lines')\n",
    "\n",
    "ax = axes[0, 0]\n",
    "ax.plot(rss_wavelength, rss_autocal.sky_intensity, 'k-')\n",
    "for line in rss_autocal.continuum.strong_sky_lines:\n",
    "    ax.axvspan(rss_wavelength[line['left']], rss_wavelength[line['right']], color='c', alpha=.1)\n",
    "    ax.axvline(line['sky_wavelength'].to_value(u.Angstrom), c='b', alpha=.5)"
   ]
  },
  {
   "cell_type": "code",
   "execution_count": null,
   "id": "88e77ca3-b25f-4103-959b-ce4c03b7fec3",
   "metadata": {},
   "outputs": [],
   "source": [
    "importlib.reload(sky)\n",
    "lsf = sky.LSF_estimator(wavelength_range=20*u.Angstrom, resolution=0.01*u.Angstrom)\n",
    "sky_lsf = lsf.find_LSF(rss_autocal.continuum.strong_sky_lines['sky_wavelength'], rss_autocal.dc.wavelength, rss_autocal.sky_intensity)\n",
    "weight = sky_lsf**2\n",
    "sky_offset = np.sum(weight*lsf.delta_lambda) / np.sum(weight)\n",
    "\n",
    "print(f'Sky lines FWHM = {lsf.find_FWHM(sky_lsf):.4g}, offset = {sky_offset:.4g}')"
   ]
  },
  {
   "cell_type": "code",
   "execution_count": null,
   "id": "e13f9804-da71-49cc-ab13-d4223129bec3",
   "metadata": {},
   "outputs": [],
   "source": [
    "fig, axes = new_figure('sky_LSF')\n",
    "\n",
    "ax = axes[0, 0]\n",
    "ax.plot(lsf.delta_lambda, sky_lsf, 'k-', label=f'FWHM = {lsf.find_FWHM(sky_lsf):.4g}')\n",
    "ax.axvline(sky_offset.to_value(u.Angstrom), c='k', ls='--', label=f'offset = {sky_offset:.4g}')\n",
    "ax.plot(-lsf.delta_lambda+2*sky_offset, sky_lsf, 'k:', label=f'symmetric')\n",
    "ax.legend()"
   ]
  },
  {
   "cell_type": "markdown",
   "id": "6daf419f-e4b7-4720-b5b4-66fecf7b751a",
   "metadata": {},
   "source": [
    "### Single spectrum"
   ]
  },
  {
   "cell_type": "code",
   "execution_count": null,
   "id": "215ef386-2bac-4ecc-b250-63525e6b9330",
   "metadata": {},
   "outputs": [],
   "source": [
    "from astropy import stats\n",
    "\n",
    "spec_id = 42\n",
    "line_wavelength, line_intensity = rss_autocal.measure_lines(spec_id)\n",
    "line_wavelength = line_wavelength.to_value(u.Angstrom)\n",
    "\n",
    "fig, axes = new_figure('single_calibration', nrows=2, ncols=2)\n",
    "\n",
    "ax = axes[0, 0]\n",
    "ax.set_ylabel('relative $\\Delta\\lambda\\ [\\AA]$')\n",
    "y = line_wavelength - rss_autocal.continuum.strong_sky_lines['sky_wavelength'].to_value(u.Angstrom)\n",
    "location = stats.biweight.biweight_location(y)\n",
    "scale = stats.biweight.biweight_scale(y)\n",
    "ax.plot(line_wavelength, y, 'k.', label=f'sky lines in spec_id={spec_id}')\n",
    "ax.axhline(location, c='r', ls='-')\n",
    "ax.fill_between(line_wavelength, location-scale, location+scale, color='r', alpha=.1)#, label=f'${location:.2f}\\pm{scale:.2f}$')\n",
    "ax.legend()\n",
    "\n",
    "ax = axes[0, 1]\n",
    "ax.plot(rss_autocal.continuum.strong_sky_lines['sky_intensity'], y, 'k.')\n",
    "xx = np.nanpercentile(rss_autocal.continuum.strong_sky_lines['sky_intensity'], np.linspace(0, 100, 101))\n",
    "ax.axhline(location, c='r', ls='-')\n",
    "ax.fill_between(xx, location-scale, location+scale, color='r', alpha=.1, label=f'${location:.2f}\\pm{scale:.2f}$')\n",
    "ax.legend()\n",
    "\n",
    "\n",
    "ax = axes[1, 0]\n",
    "ax.set_ylabel('relative throughput')\n",
    "y = line_intensity/rss_autocal.continuum.strong_sky_lines['sky_intensity']\n",
    "location = stats.biweight.biweight_location(y)\n",
    "scale = stats.biweight.biweight_scale(y)\n",
    "ax.plot(line_wavelength, y, 'k.')\n",
    "ax.axhline(location, c='r', ls='-')\n",
    "ax.fill_between(line_wavelength, location-scale, location+scale, color='r', alpha=.1, label=f'${location:.2f}\\pm{scale:.2f}$')\n",
    "\n",
    "ax.set_xlabel('$\\lambda_{line}\\ [\\AA]$')\n",
    "\n",
    "ax = axes[1, 1]\n",
    "ax.plot(rss_autocal.continuum.strong_sky_lines['sky_intensity'], y, 'k.')\n",
    "xx = np.nanpercentile(rss_autocal.continuum.strong_sky_lines['sky_intensity'], np.linspace(0, 100, 101))\n",
    "ax.axhline(location, c='r', ls='-')\n",
    "ax.fill_between(xx, location-scale, location+scale, color='r', alpha=.1, label=f'${location:.2f}\\pm{scale:.2f}$')\n",
    "ax.legend()\n",
    "\n",
    "ax.set_xlabel('Line intensity')\n",
    "ax.set_xscale('log')\n"
   ]
  },
  {
   "cell_type": "code",
   "execution_count": null,
   "id": "e1ee9ebc-4dbe-46ed-b294-e92f5bc43f1b",
   "metadata": {},
   "outputs": [],
   "source": [
    "fig, axes = new_figure('sky_self_calibration', nrows=2)\n",
    "spec_id = np.arange(rss_autocal.wavelength_offset.size)\n",
    "\n",
    "\n",
    "ax = axes[0, 0]\n",
    "ax.set_ylabel('relative $\\Delta\\lambda\\ [\\AA]$')\n",
    "\n",
    "ax.plot(spec_id, rss_autocal.wavelength_offset.to_value(u.Angstrom), 'k--', alpha=.5)\n",
    "ax.fill_between(spec_id,\n",
    "                (rss_autocal.wavelength_offset-rss_autocal.wavelength_offset_err).to_value(u.Angstrom),\n",
    "                (rss_autocal.wavelength_offset+rss_autocal.wavelength_offset_err).to_value(u.Angstrom),\n",
    "                color='k', alpha=.1)\n",
    "ax.plot(spec_id, -fibre_offset, 'b-', alpha=.7)\n",
    "\n",
    "\n",
    "ax = axes[1, 0]\n",
    "ax.set_ylabel('relative throughput')\n",
    "\n",
    "#ax.plot(spec_id, rss_autocal.relative_throughput, 'k--', alpha=.5)\n",
    "ax.plot(spec_id, rss_autocal.relative_throughput / np.nanmedian(rss_autocal.relative_throughput), 'k--', alpha=.5)\n",
    "ax.fill_between(spec_id, rss_autocal.relative_throughput-rss_autocal.relative_throughput_err, rss_autocal.relative_throughput+rss_autocal.relative_throughput_err, color='k', alpha=.1)\n",
    "#ax.plot(.97*np.nanmedian(wavelet_intensity / reference[np.newaxis, :], axis=1), 'r--', alpha=.5)\n",
    "#ax.plot(np.nanstd(wavelet_intensity, axis=1) / reference_std, 'g--', alpha=.5)\n",
    "ax.plot(spec_id, fibre_throughput / np.nanmedian(fibre_throughput), 'b-', alpha=.7)\n",
    "\n",
    "ax.set_xlabel('spec_id')\n"
   ]
  }
 ],
 "metadata": {
  "kernelspec": {
   "display_name": "Python 3 (ipykernel)",
   "language": "python",
   "name": "python3"
  },
  "language_info": {
   "codemirror_mode": {
    "name": "ipython",
    "version": 3
   },
   "file_extension": ".py",
   "mimetype": "text/x-python",
   "name": "python",
   "nbconvert_exporter": "python",
   "pygments_lexer": "ipython3",
   "version": "3.8.10"
  },
  "toc-autonumbering": false
 },
 "nbformat": 4,
 "nbformat_minor": 5
}
